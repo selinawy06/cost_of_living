{
 "cells": [
  {
   "cell_type": "markdown",
   "metadata": {},
   "source": [
    "# World Living Cost Prediction (Part 2)"
   ]
  },
  {
   "cell_type": "markdown",
   "metadata": {},
   "source": [
    "#### World cities living cost data set\n",
    "The data set contains information for a number of cities related to cost of living index and prices for a number of services and goods related to restaurants, markets, transportation, utilities etc.\n",
    "\n",
    "Cost of living index is measured against New York city, meaning NYC has a cost index of 100 and the remaining cities get their cost of living index with regards to how much more or less expensive are compared to NYC. Cities where the cost of living index is not available, it has been registered as 0.\n",
    "\n",
    "Since EU and USA have different currencies the costs have been converted to euro for all the cities in the data set.\n",
    "\n",
    "Besides the World Living Cost data, we collected cities information such as the latitude, longitude and population from https://simplemaps.com/data/world-cities.\n",
    "\n",
    "Data Source: The data has been collected using a python web crawler through the www.numbeo.com website.\n",
    "\n",
    "In this notebook we explore approaches to predicting Cost of Living by using the [Kaggle world cities living cost](https://www.kaggle.com/georgeliarommatis/world-cities-living-cost?select=cities.csv\n",
    ") dataset and world cities from https://simplemaps.com/data/world-cities.\n",
    "\n",
    "### Table of Contents:\n",
    "### [Import required modules](#cell0)\n",
    "### [Feature Engineering & Modeling](#cell1)\n",
    "* [1. Baseline Prediction Models](#cell2)\n",
    "* [1.1 Read Pre-processed Data](#cell3)\n",
    "* [1.2 Normalize Data -- log transformation](#cell4)\n",
    "* [1.3 Simple test to run multiple models against our data.](#cell5)\n",
    "* [2. Feature Engineering -- Recusive Feature Engineering](#cell6)\n",
    "  * [2.1 Find Selected Features from RFE](#cell7)\n",
    "  * [2.2 Using BayesianRidge Model with newly selected features from RFE](#cell8)\n",
    "  * [2.3 Generate the prediction from Test Set](#cell9)\n",
    "  * [2.4 Feature Importance with RFE & Bayesian Ridge Model](#cell10)\n",
    "  * [2.5  The Model Slope & intercept & Coefficient](#cell11)\n",
    "  * [2.6  Plot Test Value vs. Predict Value](#cell12)\n",
    "* [3. Feature Engineering -- PCA (Principal Component Analysis)](#cell13)\n",
    "  * [3.1 Find Compoments from PCA](#cell14)\n",
    "  * [3.2 Select the best model with newly selected components from PCA](#cell15)\n",
    "  * [3.3 Generate the prediction from Test Set ---Bayesian Ridge Model with PCA Feather Engineering](#cell16)\n",
    "  * [3.4 Feature Importance with PCA and BayesianRidge](#cell17)  \n",
    "  * [3.4 Plot Test Value vs. Predict Value](#cell18)\n",
    "* [4. Summary](#cell19)\n",
    "\n",
    "* [Authors](#authors)\n",
    "  "
   ]
  },
  {
   "cell_type": "markdown",
   "metadata": {},
   "source": [
    "<a id='cell0'></a>\n",
    "## Import required modules"
   ]
  },
  {
   "cell_type": "code",
   "execution_count": 1,
   "metadata": {},
   "outputs": [
    {
     "name": "stderr",
     "output_type": "stream",
     "text": [
      "/opt/anaconda3/lib/python3.7/site-packages/statsmodels/tools/_testing.py:19: FutureWarning: pandas.util.testing is deprecated. Use the functions in the public API at pandas.testing instead.\n",
      "  import pandas.util.testing as tm\n",
      "/opt/anaconda3/lib/python3.7/site-packages/tensorflow/python/framework/dtypes.py:516: FutureWarning: Passing (type, 1) or '1type' as a synonym of type is deprecated; in a future version of numpy, it will be understood as (type, (1,)) / '(1,)type'.\n",
      "  _np_qint8 = np.dtype([(\"qint8\", np.int8, 1)])\n",
      "/opt/anaconda3/lib/python3.7/site-packages/tensorflow/python/framework/dtypes.py:517: FutureWarning: Passing (type, 1) or '1type' as a synonym of type is deprecated; in a future version of numpy, it will be understood as (type, (1,)) / '(1,)type'.\n",
      "  _np_quint8 = np.dtype([(\"quint8\", np.uint8, 1)])\n",
      "/opt/anaconda3/lib/python3.7/site-packages/tensorflow/python/framework/dtypes.py:518: FutureWarning: Passing (type, 1) or '1type' as a synonym of type is deprecated; in a future version of numpy, it will be understood as (type, (1,)) / '(1,)type'.\n",
      "  _np_qint16 = np.dtype([(\"qint16\", np.int16, 1)])\n",
      "/opt/anaconda3/lib/python3.7/site-packages/tensorflow/python/framework/dtypes.py:519: FutureWarning: Passing (type, 1) or '1type' as a synonym of type is deprecated; in a future version of numpy, it will be understood as (type, (1,)) / '(1,)type'.\n",
      "  _np_quint16 = np.dtype([(\"quint16\", np.uint16, 1)])\n",
      "/opt/anaconda3/lib/python3.7/site-packages/tensorflow/python/framework/dtypes.py:520: FutureWarning: Passing (type, 1) or '1type' as a synonym of type is deprecated; in a future version of numpy, it will be understood as (type, (1,)) / '(1,)type'.\n",
      "  _np_qint32 = np.dtype([(\"qint32\", np.int32, 1)])\n",
      "/opt/anaconda3/lib/python3.7/site-packages/tensorflow/python/framework/dtypes.py:525: FutureWarning: Passing (type, 1) or '1type' as a synonym of type is deprecated; in a future version of numpy, it will be understood as (type, (1,)) / '(1,)type'.\n",
      "  np_resource = np.dtype([(\"resource\", np.ubyte, 1)])\n",
      "/opt/anaconda3/lib/python3.7/site-packages/tensorboard/compat/tensorflow_stub/dtypes.py:541: FutureWarning: Passing (type, 1) or '1type' as a synonym of type is deprecated; in a future version of numpy, it will be understood as (type, (1,)) / '(1,)type'.\n",
      "  _np_qint8 = np.dtype([(\"qint8\", np.int8, 1)])\n",
      "/opt/anaconda3/lib/python3.7/site-packages/tensorboard/compat/tensorflow_stub/dtypes.py:542: FutureWarning: Passing (type, 1) or '1type' as a synonym of type is deprecated; in a future version of numpy, it will be understood as (type, (1,)) / '(1,)type'.\n",
      "  _np_quint8 = np.dtype([(\"quint8\", np.uint8, 1)])\n",
      "/opt/anaconda3/lib/python3.7/site-packages/tensorboard/compat/tensorflow_stub/dtypes.py:543: FutureWarning: Passing (type, 1) or '1type' as a synonym of type is deprecated; in a future version of numpy, it will be understood as (type, (1,)) / '(1,)type'.\n",
      "  _np_qint16 = np.dtype([(\"qint16\", np.int16, 1)])\n",
      "/opt/anaconda3/lib/python3.7/site-packages/tensorboard/compat/tensorflow_stub/dtypes.py:544: FutureWarning: Passing (type, 1) or '1type' as a synonym of type is deprecated; in a future version of numpy, it will be understood as (type, (1,)) / '(1,)type'.\n",
      "  _np_quint16 = np.dtype([(\"quint16\", np.uint16, 1)])\n",
      "/opt/anaconda3/lib/python3.7/site-packages/tensorboard/compat/tensorflow_stub/dtypes.py:545: FutureWarning: Passing (type, 1) or '1type' as a synonym of type is deprecated; in a future version of numpy, it will be understood as (type, (1,)) / '(1,)type'.\n",
      "  _np_qint32 = np.dtype([(\"qint32\", np.int32, 1)])\n",
      "/opt/anaconda3/lib/python3.7/site-packages/tensorboard/compat/tensorflow_stub/dtypes.py:550: FutureWarning: Passing (type, 1) or '1type' as a synonym of type is deprecated; in a future version of numpy, it will be understood as (type, (1,)) / '(1,)type'.\n",
      "  np_resource = np.dtype([(\"resource\", np.ubyte, 1)])\n"
     ]
    }
   ],
   "source": [
    "import pandas as pd \n",
    "import numpy as np   \n",
    "import seaborn as sns \n",
    "import matplotlib.pyplot as plt\n",
    "from sklearn.decomposition import PCA\n",
    "from sklearn.model_selection import KFold\n",
    "from sklearn import linear_model\n",
    "from sklearn.metrics import make_scorer\n",
    "from sklearn.ensemble import BaggingRegressor\n",
    "from sklearn.ensemble import RandomForestRegressor\n",
    "from sklearn import svm\n",
    "from sklearn.metrics import r2_score\n",
    "from sklearn.ensemble import AdaBoostRegressor\n",
    "from sklearn.model_selection import cross_val_score\n",
    "from sklearn.tree import DecisionTreeRegressor\n",
    "from sklearn.model_selection import GridSearchCV\n",
    "from sklearn.model_selection import train_test_split\n",
    "from sklearn.preprocessing import scale\n",
    "%matplotlib inline\n",
    "import tensorflow as tf\n",
    "import seaborn\n",
    "import warnings\n",
    "warnings.filterwarnings('ignore')\n",
    "\n",
    "from subprocess import check_output"
   ]
  },
  {
   "cell_type": "markdown",
   "metadata": {},
   "source": [
    "<a id='cell1'></a>\n",
    "\n",
    "## Feature Engineering & Modeling"
   ]
  },
  {
   "cell_type": "markdown",
   "metadata": {},
   "source": [
    "<a id='cell2'></a>\n",
    "\n",
    "### 1. Baseline Prediction Models"
   ]
  },
  {
   "cell_type": "markdown",
   "metadata": {},
   "source": [
    "<a id='cell3'></a>\n",
    "#### 1. 1 Read Pre-processed Data"
   ]
  },
  {
   "cell_type": "code",
   "execution_count": 2,
   "metadata": {},
   "outputs": [
    {
     "data": {
      "text/html": [
       "<div>\n",
       "<style scoped>\n",
       "    .dataframe tbody tr th:only-of-type {\n",
       "        vertical-align: middle;\n",
       "    }\n",
       "\n",
       "    .dataframe tbody tr th {\n",
       "        vertical-align: top;\n",
       "    }\n",
       "\n",
       "    .dataframe thead th {\n",
       "        text-align: right;\n",
       "    }\n",
       "</style>\n",
       "<table border=\"1\" class=\"dataframe\">\n",
       "  <thead>\n",
       "    <tr style=\"text-align: right;\">\n",
       "      <th></th>\n",
       "      <th>City</th>\n",
       "      <th>Cost_index</th>\n",
       "      <th>Rst_MealInexpensiveRestaurant</th>\n",
       "      <th>Rst_Mealfor2People_Mid-rangeRestaurantThree-course</th>\n",
       "      <th>Rst_McMealatMcDonalds</th>\n",
       "      <th>Rst_DomesticBeerhalfliter</th>\n",
       "      <th>Rst_ImportedBeerOneThirdliterbottle</th>\n",
       "      <th>Rst_Cappuccinoregular</th>\n",
       "      <th>Rst_CokePepsiOneThirdliterbottle</th>\n",
       "      <th>Mkt_Milkregular1liter</th>\n",
       "      <th>...</th>\n",
       "      <th>Rent_Apartment3bedroomsinCityCentre</th>\n",
       "      <th>Rent_Apartment3bedroomsOutsideofCentre</th>\n",
       "      <th>BuyHouse_PriceperSquareMetertoBuyApartmentinCityCentre</th>\n",
       "      <th>BuyHouse_PriceperSquareMetertoBuyApartmentOutsideofCentre</th>\n",
       "      <th>Sal_AverageMonthlyNetSalaryAfterTax</th>\n",
       "      <th>lat</th>\n",
       "      <th>lng</th>\n",
       "      <th>country</th>\n",
       "      <th>iso3</th>\n",
       "      <th>population</th>\n",
       "    </tr>\n",
       "  </thead>\n",
       "  <tbody>\n",
       "    <tr>\n",
       "      <th>0</th>\n",
       "      <td>Turin</td>\n",
       "      <td>65.63</td>\n",
       "      <td>15.0</td>\n",
       "      <td>60.0</td>\n",
       "      <td>8.00</td>\n",
       "      <td>4.00</td>\n",
       "      <td>4.00</td>\n",
       "      <td>1.41</td>\n",
       "      <td>1.98</td>\n",
       "      <td>1.10</td>\n",
       "      <td>...</td>\n",
       "      <td>1107.24</td>\n",
       "      <td>765.17</td>\n",
       "      <td>3435.42</td>\n",
       "      <td>1976.00</td>\n",
       "      <td>1413.44</td>\n",
       "      <td>45.0704</td>\n",
       "      <td>7.6700</td>\n",
       "      <td>Italy</td>\n",
       "      <td>ITA</td>\n",
       "      <td>1652000</td>\n",
       "    </tr>\n",
       "    <tr>\n",
       "      <th>1</th>\n",
       "      <td>Milan</td>\n",
       "      <td>75.78</td>\n",
       "      <td>15.0</td>\n",
       "      <td>60.0</td>\n",
       "      <td>8.00</td>\n",
       "      <td>5.00</td>\n",
       "      <td>5.00</td>\n",
       "      <td>1.51</td>\n",
       "      <td>2.54</td>\n",
       "      <td>1.23</td>\n",
       "      <td>...</td>\n",
       "      <td>2507.87</td>\n",
       "      <td>1514.29</td>\n",
       "      <td>8549.13</td>\n",
       "      <td>3786.26</td>\n",
       "      <td>1651.84</td>\n",
       "      <td>45.4700</td>\n",
       "      <td>9.2050</td>\n",
       "      <td>Italy</td>\n",
       "      <td>ITA</td>\n",
       "      <td>2945000</td>\n",
       "    </tr>\n",
       "    <tr>\n",
       "      <th>2</th>\n",
       "      <td>Chemnitz</td>\n",
       "      <td>0.00</td>\n",
       "      <td>8.5</td>\n",
       "      <td>40.0</td>\n",
       "      <td>7.75</td>\n",
       "      <td>3.00</td>\n",
       "      <td>3.75</td>\n",
       "      <td>3.00</td>\n",
       "      <td>2.08</td>\n",
       "      <td>0.68</td>\n",
       "      <td>...</td>\n",
       "      <td>850.00</td>\n",
       "      <td>675.00</td>\n",
       "      <td>3000.00</td>\n",
       "      <td>1516.67</td>\n",
       "      <td>1962.50</td>\n",
       "      <td>50.8300</td>\n",
       "      <td>12.9200</td>\n",
       "      <td>Germany</td>\n",
       "      <td>DEU</td>\n",
       "      <td>302643</td>\n",
       "    </tr>\n",
       "    <tr>\n",
       "      <th>3</th>\n",
       "      <td>Dublin</td>\n",
       "      <td>77.85</td>\n",
       "      <td>15.0</td>\n",
       "      <td>62.5</td>\n",
       "      <td>8.50</td>\n",
       "      <td>5.75</td>\n",
       "      <td>6.00</td>\n",
       "      <td>3.29</td>\n",
       "      <td>1.86</td>\n",
       "      <td>0.97</td>\n",
       "      <td>...</td>\n",
       "      <td>3035.56</td>\n",
       "      <td>2372.22</td>\n",
       "      <td>5587.01</td>\n",
       "      <td>4026.59</td>\n",
       "      <td>2490.81</td>\n",
       "      <td>53.3331</td>\n",
       "      <td>-6.2489</td>\n",
       "      <td>Ireland</td>\n",
       "      <td>IRL</td>\n",
       "      <td>1059000</td>\n",
       "    </tr>\n",
       "    <tr>\n",
       "      <th>4</th>\n",
       "      <td>Bonn</td>\n",
       "      <td>66.01</td>\n",
       "      <td>9.5</td>\n",
       "      <td>55.0</td>\n",
       "      <td>7.50</td>\n",
       "      <td>3.50</td>\n",
       "      <td>3.50</td>\n",
       "      <td>2.61</td>\n",
       "      <td>2.06</td>\n",
       "      <td>0.74</td>\n",
       "      <td>...</td>\n",
       "      <td>1507.69</td>\n",
       "      <td>1138.46</td>\n",
       "      <td>7433.33</td>\n",
       "      <td>4933.33</td>\n",
       "      <td>2431.83</td>\n",
       "      <td>50.7205</td>\n",
       "      <td>7.0800</td>\n",
       "      <td>Germany</td>\n",
       "      <td>DEU</td>\n",
       "      <td>680543</td>\n",
       "    </tr>\n",
       "  </tbody>\n",
       "</table>\n",
       "<p>5 rows × 60 columns</p>\n",
       "</div>"
      ],
      "text/plain": [
       "       City  Cost_index  Rst_MealInexpensiveRestaurant  \\\n",
       "0     Turin       65.63                           15.0   \n",
       "1     Milan       75.78                           15.0   \n",
       "2  Chemnitz        0.00                            8.5   \n",
       "3    Dublin       77.85                           15.0   \n",
       "4      Bonn       66.01                            9.5   \n",
       "\n",
       "   Rst_Mealfor2People_Mid-rangeRestaurantThree-course  Rst_McMealatMcDonalds  \\\n",
       "0                                               60.0                    8.00   \n",
       "1                                               60.0                    8.00   \n",
       "2                                               40.0                    7.75   \n",
       "3                                               62.5                    8.50   \n",
       "4                                               55.0                    7.50   \n",
       "\n",
       "   Rst_DomesticBeerhalfliter  Rst_ImportedBeerOneThirdliterbottle  \\\n",
       "0                       4.00                                 4.00   \n",
       "1                       5.00                                 5.00   \n",
       "2                       3.00                                 3.75   \n",
       "3                       5.75                                 6.00   \n",
       "4                       3.50                                 3.50   \n",
       "\n",
       "   Rst_Cappuccinoregular  Rst_CokePepsiOneThirdliterbottle  \\\n",
       "0                   1.41                              1.98   \n",
       "1                   1.51                              2.54   \n",
       "2                   3.00                              2.08   \n",
       "3                   3.29                              1.86   \n",
       "4                   2.61                              2.06   \n",
       "\n",
       "   Mkt_Milkregular1liter  ...  Rent_Apartment3bedroomsinCityCentre  \\\n",
       "0                   1.10  ...                              1107.24   \n",
       "1                   1.23  ...                              2507.87   \n",
       "2                   0.68  ...                               850.00   \n",
       "3                   0.97  ...                              3035.56   \n",
       "4                   0.74  ...                              1507.69   \n",
       "\n",
       "   Rent_Apartment3bedroomsOutsideofCentre  \\\n",
       "0                                  765.17   \n",
       "1                                 1514.29   \n",
       "2                                  675.00   \n",
       "3                                 2372.22   \n",
       "4                                 1138.46   \n",
       "\n",
       "   BuyHouse_PriceperSquareMetertoBuyApartmentinCityCentre  \\\n",
       "0                                            3435.42        \n",
       "1                                            8549.13        \n",
       "2                                            3000.00        \n",
       "3                                            5587.01        \n",
       "4                                            7433.33        \n",
       "\n",
       "   BuyHouse_PriceperSquareMetertoBuyApartmentOutsideofCentre  \\\n",
       "0                                            1976.00           \n",
       "1                                            3786.26           \n",
       "2                                            1516.67           \n",
       "3                                            4026.59           \n",
       "4                                            4933.33           \n",
       "\n",
       "   Sal_AverageMonthlyNetSalaryAfterTax      lat      lng  country  iso3  \\\n",
       "0                              1413.44  45.0704   7.6700    Italy   ITA   \n",
       "1                              1651.84  45.4700   9.2050    Italy   ITA   \n",
       "2                              1962.50  50.8300  12.9200  Germany   DEU   \n",
       "3                              2490.81  53.3331  -6.2489  Ireland   IRL   \n",
       "4                              2431.83  50.7205   7.0800  Germany   DEU   \n",
       "\n",
       "   population  \n",
       "0     1652000  \n",
       "1     2945000  \n",
       "2      302643  \n",
       "3     1059000  \n",
       "4      680543  \n",
       "\n",
       "[5 rows x 60 columns]"
      ]
     },
     "execution_count": 2,
     "metadata": {},
     "output_type": "execute_result"
    }
   ],
   "source": [
    "df = pd.read_csv(\"city_geo_cost_v4.csv\")\n",
    "df.head()"
   ]
  },
  {
   "cell_type": "code",
   "execution_count": 3,
   "metadata": {},
   "outputs": [],
   "source": [
    "feature_cols = ['Rst_MealInexpensiveRestaurant',\n",
    " 'Rst_Mealfor2People_Mid-rangeRestaurantThree-course',\n",
    " 'Rst_McMealatMcDonalds',\n",
    " 'Rst_DomesticBeerhalfliter',\n",
    " 'Rst_ImportedBeerOneThirdliterbottle',\n",
    " 'Rst_Cappuccinoregular',\n",
    " 'Rst_CokePepsiOneThirdliterbottle',\n",
    " 'Mkt_Milkregular1liter',\n",
    " 'Mkt_LoafofFreshWhiteBread500g',\n",
    " 'Mkt_Ricewhite1kg',\n",
    " 'Mkt_Eggsregular12',\n",
    " 'Mkt_LocalCheese1kg',\n",
    " 'Mkt_ChickenFillets1kg',\n",
    " 'Mkt_BeefRound1kgBackLegRedMeat',\n",
    " 'Mkt_Apples1kg',\n",
    " 'Mkt_Banana1kg',\n",
    " 'Mkt_Oranges1kg',\n",
    " 'Mkt_Tomato1kg',\n",
    " 'Mkt_Potato1kg',\n",
    " 'Mkt_Onion1kg',\n",
    " 'Mkt_Lettuce1head',\n",
    " 'Mkt_WaterOneandHalfliterbottle',\n",
    " 'Mkt_BottleofWineMid-Range',\n",
    " 'Mkt_DomesticBeerHalfliterbottle',\n",
    " 'Mkt_ImportedBeerOneThirdliterbottle',\n",
    " 'Mkt_Cigarettes20PackMarlboro',\n",
    " 'Trsp_One-wayTicket',\n",
    " 'Trsp_MonthlyPassTransportation',\n",
    " 'Trsp_TaxiStart',\n",
    " 'Trsp_Taxi1km',\n",
    " 'Trsp_Taxi1hourWaiting',\n",
    " 'Trsp_Gasoline1liter',\n",
    " 'Trsp_VolkswagenGolf1490KWTrendline',\n",
    " 'Trsp_ToyotaCorollaSedan16l97kWComfort',\n",
    " 'Uty_BasicElectricityHeatingCoolingWaterGarbage',\n",
    " 'Uty_1minofPrepaidMobileTariffLocal_NoDiscounts',\n",
    " 'Uty_Internet60MbpsorMoreUnlimitedDataCable',\n",
    " 'SptEnt_FitnessClubMonthlyFeefor1Adult',\n",
    " 'SptEnt_TennisCourtRent1HouronWeekend',\n",
    " 'SptEnt_CinemaInternationalRelease1Seat',\n",
    " 'ChCare_PreschoolFullDayPrivateMonthlyfor1Child',\n",
    " 'ChCare_InternationalPrimarySchoolYearlyfor1Child',\n",
    " 'Cloth_1PairofJeans_Levis501',\n",
    " 'Cloth_1ummerDressinaChainStore_Zara',\n",
    " 'Cloth_1PairofNikeRunningShoesMid-Range',\n",
    " 'Cloth_1PairofMenLeatherBusinessShoes',\n",
    " 'Rent_Apartment1bedroominCityCentre',\n",
    " 'Rent_Apartment1bedroomOutsideofCentre',\n",
    " 'Rent_Apartment3bedroomsinCityCentre',\n",
    " 'Rent_Apartment3bedroomsOutsideofCentre',\n",
    " 'BuyHouse_PriceperSquareMetertoBuyApartmentinCityCentre',\n",
    " 'BuyHouse_PriceperSquareMetertoBuyApartmentOutsideofCentre',\n",
    " 'Sal_AverageMonthlyNetSalaryAfterTax',\n",
    " 'population']\n",
    "costIndex_df = df[df['Cost_index'] !=0]\n",
    "X = costIndex_df[feature_cols]\n",
    "y = costIndex_df[['Cost_index']]"
   ]
  },
  {
   "cell_type": "markdown",
   "metadata": {},
   "source": [
    "<a id='cell4'></a>\n",
    "#### 1.2 Normalize Data -- log transformation\n",
    "If the original data follows a log-normal distribution or approximately so, then the log-transformed data follows a normal or near normal distribution. In this case, the log-transformation does remove or reduce skewness."
   ]
  },
  {
   "cell_type": "code",
   "execution_count": 4,
   "metadata": {},
   "outputs": [
    {
     "name": "stdout",
     "output_type": "stream",
     "text": [
      "(175, 54)\n"
     ]
    }
   ],
   "source": [
    "# Log transformation\n",
    "X = np.log(X)\n",
    "y = np.log(y)\n",
    "\n",
    "# Change -inf to 0 again\n",
    "X[X==-np.inf]=0\n",
    "print(X.shape)"
   ]
  },
  {
   "cell_type": "code",
   "execution_count": 5,
   "metadata": {},
   "outputs": [
    {
     "data": {
      "text/html": [
       "<div>\n",
       "<style scoped>\n",
       "    .dataframe tbody tr th:only-of-type {\n",
       "        vertical-align: middle;\n",
       "    }\n",
       "\n",
       "    .dataframe tbody tr th {\n",
       "        vertical-align: top;\n",
       "    }\n",
       "\n",
       "    .dataframe thead th {\n",
       "        text-align: right;\n",
       "    }\n",
       "</style>\n",
       "<table border=\"1\" class=\"dataframe\">\n",
       "  <thead>\n",
       "    <tr style=\"text-align: right;\">\n",
       "      <th></th>\n",
       "      <th>Rst_MealInexpensiveRestaurant</th>\n",
       "      <th>Rst_Mealfor2People_Mid-rangeRestaurantThree-course</th>\n",
       "      <th>Rst_McMealatMcDonalds</th>\n",
       "      <th>Rst_DomesticBeerhalfliter</th>\n",
       "      <th>Rst_ImportedBeerOneThirdliterbottle</th>\n",
       "      <th>Rst_Cappuccinoregular</th>\n",
       "      <th>Rst_CokePepsiOneThirdliterbottle</th>\n",
       "      <th>Mkt_Milkregular1liter</th>\n",
       "      <th>Mkt_LoafofFreshWhiteBread500g</th>\n",
       "      <th>Mkt_Ricewhite1kg</th>\n",
       "      <th>...</th>\n",
       "      <th>Cloth_1PairofNikeRunningShoesMid-Range</th>\n",
       "      <th>Cloth_1PairofMenLeatherBusinessShoes</th>\n",
       "      <th>Rent_Apartment1bedroominCityCentre</th>\n",
       "      <th>Rent_Apartment1bedroomOutsideofCentre</th>\n",
       "      <th>Rent_Apartment3bedroomsinCityCentre</th>\n",
       "      <th>Rent_Apartment3bedroomsOutsideofCentre</th>\n",
       "      <th>BuyHouse_PriceperSquareMetertoBuyApartmentinCityCentre</th>\n",
       "      <th>BuyHouse_PriceperSquareMetertoBuyApartmentOutsideofCentre</th>\n",
       "      <th>Sal_AverageMonthlyNetSalaryAfterTax</th>\n",
       "      <th>population</th>\n",
       "    </tr>\n",
       "  </thead>\n",
       "  <tbody>\n",
       "    <tr>\n",
       "      <th>0</th>\n",
       "      <td>2.708050</td>\n",
       "      <td>4.094345</td>\n",
       "      <td>2.079442</td>\n",
       "      <td>1.386294</td>\n",
       "      <td>1.386294</td>\n",
       "      <td>0.343590</td>\n",
       "      <td>0.683097</td>\n",
       "      <td>0.095310</td>\n",
       "      <td>0.444686</td>\n",
       "      <td>0.559616</td>\n",
       "      <td>...</td>\n",
       "      <td>4.336114</td>\n",
       "      <td>4.795046</td>\n",
       "      <td>6.343441</td>\n",
       "      <td>6.040993</td>\n",
       "      <td>7.009626</td>\n",
       "      <td>6.640098</td>\n",
       "      <td>8.141894</td>\n",
       "      <td>7.588830</td>\n",
       "      <td>7.253782</td>\n",
       "      <td>14.317497</td>\n",
       "    </tr>\n",
       "    <tr>\n",
       "      <th>1</th>\n",
       "      <td>2.708050</td>\n",
       "      <td>4.094345</td>\n",
       "      <td>2.079442</td>\n",
       "      <td>1.609438</td>\n",
       "      <td>1.609438</td>\n",
       "      <td>0.412110</td>\n",
       "      <td>0.932164</td>\n",
       "      <td>0.207014</td>\n",
       "      <td>0.698135</td>\n",
       "      <td>0.879627</td>\n",
       "      <td>...</td>\n",
       "      <td>4.510750</td>\n",
       "      <td>4.930798</td>\n",
       "      <td>7.062192</td>\n",
       "      <td>6.617510</td>\n",
       "      <td>7.827189</td>\n",
       "      <td>7.322702</td>\n",
       "      <td>9.053585</td>\n",
       "      <td>8.239134</td>\n",
       "      <td>7.409645</td>\n",
       "      <td>14.895619</td>\n",
       "    </tr>\n",
       "    <tr>\n",
       "      <th>3</th>\n",
       "      <td>2.708050</td>\n",
       "      <td>4.135167</td>\n",
       "      <td>2.140066</td>\n",
       "      <td>1.749200</td>\n",
       "      <td>1.791759</td>\n",
       "      <td>1.190888</td>\n",
       "      <td>0.620576</td>\n",
       "      <td>-0.030459</td>\n",
       "      <td>0.378436</td>\n",
       "      <td>0.488580</td>\n",
       "      <td>...</td>\n",
       "      <td>4.422449</td>\n",
       "      <td>4.578621</td>\n",
       "      <td>7.444161</td>\n",
       "      <td>7.268774</td>\n",
       "      <td>8.018151</td>\n",
       "      <td>7.771582</td>\n",
       "      <td>8.628200</td>\n",
       "      <td>8.300675</td>\n",
       "      <td>7.820363</td>\n",
       "      <td>13.872836</td>\n",
       "    </tr>\n",
       "    <tr>\n",
       "      <th>4</th>\n",
       "      <td>2.251292</td>\n",
       "      <td>4.007333</td>\n",
       "      <td>2.014903</td>\n",
       "      <td>1.252763</td>\n",
       "      <td>1.252763</td>\n",
       "      <td>0.959350</td>\n",
       "      <td>0.722706</td>\n",
       "      <td>-0.301105</td>\n",
       "      <td>0.139762</td>\n",
       "      <td>0.815365</td>\n",
       "      <td>...</td>\n",
       "      <td>4.288814</td>\n",
       "      <td>4.609461</td>\n",
       "      <td>6.665200</td>\n",
       "      <td>6.373576</td>\n",
       "      <td>7.318334</td>\n",
       "      <td>7.037432</td>\n",
       "      <td>8.913729</td>\n",
       "      <td>8.503769</td>\n",
       "      <td>7.796399</td>\n",
       "      <td>13.430646</td>\n",
       "    </tr>\n",
       "    <tr>\n",
       "      <th>5</th>\n",
       "      <td>2.708050</td>\n",
       "      <td>3.912023</td>\n",
       "      <td>2.079442</td>\n",
       "      <td>1.609438</td>\n",
       "      <td>1.609438</td>\n",
       "      <td>0.438255</td>\n",
       "      <td>0.943906</td>\n",
       "      <td>0.157004</td>\n",
       "      <td>0.774727</td>\n",
       "      <td>0.741937</td>\n",
       "      <td>...</td>\n",
       "      <td>4.540632</td>\n",
       "      <td>4.553877</td>\n",
       "      <td>6.417549</td>\n",
       "      <td>6.214608</td>\n",
       "      <td>6.940542</td>\n",
       "      <td>6.663554</td>\n",
       "      <td>7.989560</td>\n",
       "      <td>7.335197</td>\n",
       "      <td>7.286952</td>\n",
       "      <td>12.075406</td>\n",
       "    </tr>\n",
       "  </tbody>\n",
       "</table>\n",
       "<p>5 rows × 54 columns</p>\n",
       "</div>"
      ],
      "text/plain": [
       "   Rst_MealInexpensiveRestaurant  \\\n",
       "0                       2.708050   \n",
       "1                       2.708050   \n",
       "3                       2.708050   \n",
       "4                       2.251292   \n",
       "5                       2.708050   \n",
       "\n",
       "   Rst_Mealfor2People_Mid-rangeRestaurantThree-course  Rst_McMealatMcDonalds  \\\n",
       "0                                           4.094345                2.079442   \n",
       "1                                           4.094345                2.079442   \n",
       "3                                           4.135167                2.140066   \n",
       "4                                           4.007333                2.014903   \n",
       "5                                           3.912023                2.079442   \n",
       "\n",
       "   Rst_DomesticBeerhalfliter  Rst_ImportedBeerOneThirdliterbottle  \\\n",
       "0                   1.386294                             1.386294   \n",
       "1                   1.609438                             1.609438   \n",
       "3                   1.749200                             1.791759   \n",
       "4                   1.252763                             1.252763   \n",
       "5                   1.609438                             1.609438   \n",
       "\n",
       "   Rst_Cappuccinoregular  Rst_CokePepsiOneThirdliterbottle  \\\n",
       "0               0.343590                          0.683097   \n",
       "1               0.412110                          0.932164   \n",
       "3               1.190888                          0.620576   \n",
       "4               0.959350                          0.722706   \n",
       "5               0.438255                          0.943906   \n",
       "\n",
       "   Mkt_Milkregular1liter  Mkt_LoafofFreshWhiteBread500g  Mkt_Ricewhite1kg  \\\n",
       "0               0.095310                       0.444686          0.559616   \n",
       "1               0.207014                       0.698135          0.879627   \n",
       "3              -0.030459                       0.378436          0.488580   \n",
       "4              -0.301105                       0.139762          0.815365   \n",
       "5               0.157004                       0.774727          0.741937   \n",
       "\n",
       "   ...  Cloth_1PairofNikeRunningShoesMid-Range  \\\n",
       "0  ...                                4.336114   \n",
       "1  ...                                4.510750   \n",
       "3  ...                                4.422449   \n",
       "4  ...                                4.288814   \n",
       "5  ...                                4.540632   \n",
       "\n",
       "   Cloth_1PairofMenLeatherBusinessShoes  Rent_Apartment1bedroominCityCentre  \\\n",
       "0                              4.795046                            6.343441   \n",
       "1                              4.930798                            7.062192   \n",
       "3                              4.578621                            7.444161   \n",
       "4                              4.609461                            6.665200   \n",
       "5                              4.553877                            6.417549   \n",
       "\n",
       "   Rent_Apartment1bedroomOutsideofCentre  Rent_Apartment3bedroomsinCityCentre  \\\n",
       "0                               6.040993                             7.009626   \n",
       "1                               6.617510                             7.827189   \n",
       "3                               7.268774                             8.018151   \n",
       "4                               6.373576                             7.318334   \n",
       "5                               6.214608                             6.940542   \n",
       "\n",
       "   Rent_Apartment3bedroomsOutsideofCentre  \\\n",
       "0                                6.640098   \n",
       "1                                7.322702   \n",
       "3                                7.771582   \n",
       "4                                7.037432   \n",
       "5                                6.663554   \n",
       "\n",
       "   BuyHouse_PriceperSquareMetertoBuyApartmentinCityCentre  \\\n",
       "0                                           8.141894        \n",
       "1                                           9.053585        \n",
       "3                                           8.628200        \n",
       "4                                           8.913729        \n",
       "5                                           7.989560        \n",
       "\n",
       "   BuyHouse_PriceperSquareMetertoBuyApartmentOutsideofCentre  \\\n",
       "0                                           7.588830           \n",
       "1                                           8.239134           \n",
       "3                                           8.300675           \n",
       "4                                           8.503769           \n",
       "5                                           7.335197           \n",
       "\n",
       "   Sal_AverageMonthlyNetSalaryAfterTax  population  \n",
       "0                             7.253782   14.317497  \n",
       "1                             7.409645   14.895619  \n",
       "3                             7.820363   13.872836  \n",
       "4                             7.796399   13.430646  \n",
       "5                             7.286952   12.075406  \n",
       "\n",
       "[5 rows x 54 columns]"
      ]
     },
     "execution_count": 5,
     "metadata": {},
     "output_type": "execute_result"
    }
   ],
   "source": [
    "X[0:5]"
   ]
  },
  {
   "cell_type": "code",
   "execution_count": 6,
   "metadata": {},
   "outputs": [
    {
     "data": {
      "text/html": [
       "<div>\n",
       "<style scoped>\n",
       "    .dataframe tbody tr th:only-of-type {\n",
       "        vertical-align: middle;\n",
       "    }\n",
       "\n",
       "    .dataframe tbody tr th {\n",
       "        vertical-align: top;\n",
       "    }\n",
       "\n",
       "    .dataframe thead th {\n",
       "        text-align: right;\n",
       "    }\n",
       "</style>\n",
       "<table border=\"1\" class=\"dataframe\">\n",
       "  <thead>\n",
       "    <tr style=\"text-align: right;\">\n",
       "      <th></th>\n",
       "      <th>Cost_index</th>\n",
       "    </tr>\n",
       "  </thead>\n",
       "  <tbody>\n",
       "    <tr>\n",
       "      <th>0</th>\n",
       "      <td>4.184033</td>\n",
       "    </tr>\n",
       "    <tr>\n",
       "      <th>1</th>\n",
       "      <td>4.327834</td>\n",
       "    </tr>\n",
       "    <tr>\n",
       "      <th>3</th>\n",
       "      <td>4.354784</td>\n",
       "    </tr>\n",
       "    <tr>\n",
       "      <th>4</th>\n",
       "      <td>4.189806</td>\n",
       "    </tr>\n",
       "    <tr>\n",
       "      <th>5</th>\n",
       "      <td>4.242621</td>\n",
       "    </tr>\n",
       "  </tbody>\n",
       "</table>\n",
       "</div>"
      ],
      "text/plain": [
       "   Cost_index\n",
       "0    4.184033\n",
       "1    4.327834\n",
       "3    4.354784\n",
       "4    4.189806\n",
       "5    4.242621"
      ]
     },
     "execution_count": 6,
     "metadata": {},
     "output_type": "execute_result"
    }
   ],
   "source": [
    "y[0:5]"
   ]
  },
  {
   "cell_type": "markdown",
   "metadata": {},
   "source": [
    "<a id='cell5'></a>\n",
    "#### 1.3 Simple test to run multiple models against our data. \n",
    "First, with raw features. No any feature selection applied."
   ]
  },
  {
   "cell_type": "code",
   "execution_count": 7,
   "metadata": {},
   "outputs": [],
   "source": [
    "X_train, X_test, y_train, y_test = train_test_split(X,y, test_size = 0.25, random_state = 0)"
   ]
  },
  {
   "cell_type": "markdown",
   "metadata": {},
   "source": [
    "#### R-squared evaluates the scatter of the data points around the fitted regression line. It is also called the coefficient of determination, or the coefficient of multiple determination for multiple regression. For the same data set, higher R-squared values represent smaller differences between the observed data and the fitted values."
   ]
  },
  {
   "cell_type": "code",
   "execution_count": 8,
   "metadata": {},
   "outputs": [],
   "source": [
    "# R2 Score\n",
    "# 10-fold cross validation is for randomization.\n",
    "\n",
    "def lets_try(train,labels):\n",
    "    results={}\n",
    "    def test_model(clf):\n",
    "        \n",
    "        cv = KFold(n_splits=10,shuffle=True,random_state=45)\n",
    "        r2 = make_scorer(r2_score)\n",
    "        r2_val_score = cross_val_score(clf, train, labels, cv=cv,scoring=r2)\n",
    "        scores=[r2_val_score.mean()]\n",
    "        return scores\n",
    "\n",
    "    clf = linear_model.LinearRegression()\n",
    "    results[\"Linear\"]=test_model(clf)\n",
    "    \n",
    "    clf = linear_model.Ridge()\n",
    "    results[\"Ridge\"]=test_model(clf)\n",
    "    \n",
    "    clf = linear_model.BayesianRidge()\n",
    "    results[\"Bayesian Ridge\"]=test_model(clf)\n",
    "    \n",
    "    clf = linear_model.HuberRegressor()\n",
    "    results[\"Hubber\"]=test_model(clf)\n",
    "    \n",
    "    clf = linear_model.Lasso(alpha=1e-4)\n",
    "    results[\"Lasso\"]=test_model(clf)\n",
    "    \n",
    "    clf = BaggingRegressor()\n",
    "    results[\"Bagging\"]=test_model(clf)\n",
    "    \n",
    "    clf = RandomForestRegressor()\n",
    "    results[\"RandomForest\"]=test_model(clf)\n",
    "    \n",
    "    clf = AdaBoostRegressor()\n",
    "    results[\"AdaBoost\"]=test_model(clf)\n",
    "    \n",
    "    clf = svm.SVR()\n",
    "    results[\"SVM RBF\"]=test_model(clf)\n",
    "    \n",
    "    clf = svm.SVR(kernel=\"linear\")\n",
    "    results[\"SVM Linear\"]=test_model(clf)\n",
    "    \n",
    "    results = pd.DataFrame.from_dict(results,orient='index')\n",
    "    results.columns=[\"R Square Score\"] \n",
    "    results=results.sort_values('R Square Score', ascending=False)\n",
    "    results.plot(kind=\"bar\",title=\"Model Scores\")\n",
    "    axes = plt.gca()\n",
    "    axes.set_ylim([0.5,1])\n",
    "    return results"
   ]
  },
  {
   "cell_type": "code",
   "execution_count": 9,
   "metadata": {},
   "outputs": [
    {
     "data": {
      "text/html": [
       "<div>\n",
       "<style scoped>\n",
       "    .dataframe tbody tr th:only-of-type {\n",
       "        vertical-align: middle;\n",
       "    }\n",
       "\n",
       "    .dataframe tbody tr th {\n",
       "        vertical-align: top;\n",
       "    }\n",
       "\n",
       "    .dataframe thead th {\n",
       "        text-align: right;\n",
       "    }\n",
       "</style>\n",
       "<table border=\"1\" class=\"dataframe\">\n",
       "  <thead>\n",
       "    <tr style=\"text-align: right;\">\n",
       "      <th></th>\n",
       "      <th>R Square Score</th>\n",
       "    </tr>\n",
       "  </thead>\n",
       "  <tbody>\n",
       "    <tr>\n",
       "      <th>Bayesian Ridge</th>\n",
       "      <td>0.840123</td>\n",
       "    </tr>\n",
       "    <tr>\n",
       "      <th>Ridge</th>\n",
       "      <td>0.837956</td>\n",
       "    </tr>\n",
       "    <tr>\n",
       "      <th>Lasso</th>\n",
       "      <td>0.815228</td>\n",
       "    </tr>\n",
       "    <tr>\n",
       "      <th>AdaBoost</th>\n",
       "      <td>0.799504</td>\n",
       "    </tr>\n",
       "    <tr>\n",
       "      <th>Linear</th>\n",
       "      <td>0.788093</td>\n",
       "    </tr>\n",
       "    <tr>\n",
       "      <th>SVM RBF</th>\n",
       "      <td>0.772027</td>\n",
       "    </tr>\n",
       "    <tr>\n",
       "      <th>Hubber</th>\n",
       "      <td>0.768120</td>\n",
       "    </tr>\n",
       "    <tr>\n",
       "      <th>RandomForest</th>\n",
       "      <td>0.754570</td>\n",
       "    </tr>\n",
       "    <tr>\n",
       "      <th>SVM Linear</th>\n",
       "      <td>0.745302</td>\n",
       "    </tr>\n",
       "    <tr>\n",
       "      <th>Bagging</th>\n",
       "      <td>0.722309</td>\n",
       "    </tr>\n",
       "  </tbody>\n",
       "</table>\n",
       "</div>"
      ],
      "text/plain": [
       "                R Square Score\n",
       "Bayesian Ridge        0.840123\n",
       "Ridge                 0.837956\n",
       "Lasso                 0.815228\n",
       "AdaBoost              0.799504\n",
       "Linear                0.788093\n",
       "SVM RBF               0.772027\n",
       "Hubber                0.768120\n",
       "RandomForest          0.754570\n",
       "SVM Linear            0.745302\n",
       "Bagging               0.722309"
      ]
     },
     "execution_count": 9,
     "metadata": {},
     "output_type": "execute_result"
    },
    {
     "data": {
      "image/png": "[encoded data removed]",
      "text/plain": [
       "<Figure size 432x288 with 1 Axes>"
      ]
     },
     "metadata": {
      "needs_background": "light"
     },
     "output_type": "display_data"
    }
   ],
   "source": [
    "lets_try(X_train,y_train)"
   ]
  },
  {
   "cell_type": "markdown",
   "metadata": {},
   "source": [
    "<a id='cell6'></a>\n",
    "\n",
    "### 2. Feature Engineering -- RFE (Recusive Feature Elimination)"
   ]
  },
  {
   "cell_type": "markdown",
   "metadata": {},
   "source": [
    "#### from the models above, we will apply RFE to the best model -- BayesianRidge"
   ]
  },
  {
   "cell_type": "code",
   "execution_count": 41,
   "metadata": {},
   "outputs": [
    {
     "name": "stdout",
     "output_type": "stream",
     "text": [
      "Optimum number of features for BayesianRidge Model: 53\n",
      "Score with 53 features: 0.741204\n"
     ]
    }
   ],
   "source": [
    "#no of features\n",
    "nof_list=np.arange(1,54)            \n",
    "high_score=0\n",
    "#Variable to store the optimum features\n",
    "nof=0           \n",
    "score_list =[]\n",
    "from sklearn.model_selection import train_test_split\n",
    "from sklearn.linear_model import BayesianRidge\n",
    "from sklearn.feature_selection import RFE\n",
    "\n",
    "for n in range(len(nof_list)):\n",
    "    model = BayesianRidge()\n",
    "    rfe = RFE(model,nof_list[n])\n",
    "    X_train_rfe = rfe.fit_transform(X_train,y_train)\n",
    "    X_test_rfe = rfe.transform(X_test)\n",
    "    model.fit(X_train_rfe,y_train)\n",
    "    score = model.score(X_test_rfe,y_test)\n",
    "    score_list.append(score)\n",
    "    if(score>high_score):\n",
    "        high_score = score\n",
    "        nof = nof_list[n]\n",
    "print(\"Optimum number of features for BayesianRidge Model: %d\" %nof)\n",
    "print(\"Score with %d features: %f\" % (nof, high_score))"
   ]
  },
  {
   "cell_type": "markdown",
   "metadata": {},
   "source": [
    "<span style=\"color: red;\">The features are reduced from 54 to 19 after RFE with BayesianRidge Model.</span>"
   ]
  },
  {
   "cell_type": "markdown",
   "metadata": {},
   "source": [
    "#### from the models above, we will apply RFE to the lower performance model -- HuberRegressor"
   ]
  },
  {
   "cell_type": "code",
   "execution_count": 11,
   "metadata": {},
   "outputs": [
    {
     "name": "stdout",
     "output_type": "stream",
     "text": [
      "Optimum number of features for HuberRegressor Model: 4\n",
      "Score with 4 features: 0.777877\n"
     ]
    }
   ],
   "source": [
    "#no of features\n",
    "nof_list=np.arange(1,54)            \n",
    "high_score=0\n",
    "#Variable to store the optimum features\n",
    "nof=0           \n",
    "score_list =[]\n",
    "from sklearn.model_selection import train_test_split\n",
    "from sklearn.linear_model import HuberRegressor\n",
    "from sklearn.feature_selection import RFE\n",
    "\n",
    "for n in range(len(nof_list)):\n",
    "    model = HuberRegressor()\n",
    "    rfe = RFE(model,nof_list[n])\n",
    "    X_train_rfe = rfe.fit_transform(X_train,y_train)\n",
    "    X_test_rfe = rfe.transform(X_test)\n",
    "    model.fit(X_train_rfe,y_train)\n",
    "    score = model.score(X_test_rfe,y_test)\n",
    "    score_list.append(score)\n",
    "    if(score>high_score):\n",
    "        high_score = score\n",
    "        nof = nof_list[n]\n",
    "print(\"Optimum number of features for HuberRegressor Model: %d\" %nof)\n",
    "print(\"Score with %d features: %f\" % (nof, high_score))"
   ]
  },
  {
   "cell_type": "markdown",
   "metadata": {},
   "source": [
    "<span style=\"color: red;\">The features are reduced from 54 to 4 after **RFE** with HuberRegressor Model.</span>\n",
    "<span style=\"color: blue;\">This is the interesting finding. If the R2 around 0.78 is acceptable, the execution time of training and prediction will be dramatically improved with **HuberRegression Model** in large dataset.</span>\n",
    "<span style=\"color: blue;\">Because the features are reduced from 54 to 4.This can be a very good candidate also.</span>"
   ]
  },
  {
   "cell_type": "markdown",
   "metadata": {},
   "source": [
    "<a id='cell7'></a>\n",
    "#### 2.1 Find Selected Features from RFE"
   ]
  },
  {
   "cell_type": "code",
   "execution_count": 12,
   "metadata": {},
   "outputs": [
    {
     "name": "stdout",
     "output_type": "stream",
     "text": [
      "Index(['Rst_MealInexpensiveRestaurant',\n",
      "       'Rst_Mealfor2People_Mid-rangeRestaurantThree-course',\n",
      "       'Rst_McMealatMcDonalds', 'Rst_DomesticBeerhalfliter',\n",
      "       'Rst_Cappuccinoregular', 'Mkt_Milkregular1liter', 'Mkt_Eggsregular12',\n",
      "       'Mkt_LocalCheese1kg', 'Mkt_ChickenFillets1kg',\n",
      "       'Mkt_BeefRound1kgBackLegRedMeat', 'Mkt_Apples1kg', 'Mkt_Oranges1kg',\n",
      "       'Mkt_Tomato1kg', 'Trsp_One-wayTicket', 'Trsp_Gasoline1liter',\n",
      "       'Uty_BasicElectricityHeatingCoolingWaterGarbage',\n",
      "       'Cloth_1PairofNikeRunningShoesMid-Range',\n",
      "       'Rent_Apartment1bedroominCityCentre',\n",
      "       'Rent_Apartment3bedroomsOutsideofCentre'],\n",
      "      dtype='object')\n"
     ]
    }
   ],
   "source": [
    "cols = feature_cols\n",
    "model = BayesianRidge()\n",
    "#Initializing RFE model\n",
    "rfe = RFE(model, 19)             \n",
    "#Transforming data using RFE\n",
    "X_rfe = rfe.fit_transform(X,y)  \n",
    "#Fitting the data to model\n",
    "model.fit(X_rfe,y)              \n",
    "temp = pd.Series(rfe.support_,index = cols)\n",
    "selected_features_rfe = temp[temp==True].index\n",
    "print(selected_features_rfe)"
   ]
  },
  {
   "cell_type": "markdown",
   "metadata": {},
   "source": [
    "<a id='cell8'></a>\n",
    "#### 2.2 Select the best model with newly selected features from RFE"
   ]
  },
  {
   "cell_type": "code",
   "execution_count": 13,
   "metadata": {},
   "outputs": [
    {
     "name": "stdout",
     "output_type": "stream",
     "text": [
      "Train set: (131, 19) (131,)\n",
      "Test set: (44, 19) (44,)\n"
     ]
    },
    {
     "data": {
      "text/html": [
       "<div>\n",
       "<style scoped>\n",
       "    .dataframe tbody tr th:only-of-type {\n",
       "        vertical-align: middle;\n",
       "    }\n",
       "\n",
       "    .dataframe tbody tr th {\n",
       "        vertical-align: top;\n",
       "    }\n",
       "\n",
       "    .dataframe thead th {\n",
       "        text-align: right;\n",
       "    }\n",
       "</style>\n",
       "<table border=\"1\" class=\"dataframe\">\n",
       "  <thead>\n",
       "    <tr style=\"text-align: right;\">\n",
       "      <th></th>\n",
       "      <th>Rst_MealInexpensiveRestaurant</th>\n",
       "      <th>Rst_Mealfor2People_Mid-rangeRestaurantThree-course</th>\n",
       "      <th>Rst_McMealatMcDonalds</th>\n",
       "      <th>Rst_DomesticBeerhalfliter</th>\n",
       "      <th>Rst_Cappuccinoregular</th>\n",
       "      <th>Mkt_Milkregular1liter</th>\n",
       "      <th>Mkt_Eggsregular12</th>\n",
       "      <th>Mkt_LocalCheese1kg</th>\n",
       "      <th>Mkt_ChickenFillets1kg</th>\n",
       "      <th>Mkt_BeefRound1kgBackLegRedMeat</th>\n",
       "      <th>Mkt_Apples1kg</th>\n",
       "      <th>Mkt_Oranges1kg</th>\n",
       "      <th>Mkt_Tomato1kg</th>\n",
       "      <th>Trsp_One-wayTicket</th>\n",
       "      <th>Trsp_Gasoline1liter</th>\n",
       "      <th>Uty_BasicElectricityHeatingCoolingWaterGarbage</th>\n",
       "      <th>Cloth_1PairofNikeRunningShoesMid-Range</th>\n",
       "      <th>Rent_Apartment1bedroominCityCentre</th>\n",
       "      <th>Rent_Apartment3bedroomsOutsideofCentre</th>\n",
       "    </tr>\n",
       "  </thead>\n",
       "  <tbody>\n",
       "    <tr>\n",
       "      <th>192</th>\n",
       "      <td>2.613740</td>\n",
       "      <td>4.000034</td>\n",
       "      <td>1.985131</td>\n",
       "      <td>1.654411</td>\n",
       "      <td>1.353255</td>\n",
       "      <td>-0.356675</td>\n",
       "      <td>0.262364</td>\n",
       "      <td>2.280339</td>\n",
       "      <td>1.859418</td>\n",
       "      <td>2.305581</td>\n",
       "      <td>1.504077</td>\n",
       "      <td>1.611436</td>\n",
       "      <td>1.108563</td>\n",
       "      <td>0.463734</td>\n",
       "      <td>-0.579818</td>\n",
       "      <td>4.891326</td>\n",
       "      <td>4.186924</td>\n",
       "      <td>6.948148</td>\n",
       "      <td>7.177561</td>\n",
       "    </tr>\n",
       "    <tr>\n",
       "      <th>20</th>\n",
       "      <td>2.708050</td>\n",
       "      <td>3.960813</td>\n",
       "      <td>2.169054</td>\n",
       "      <td>1.931521</td>\n",
       "      <td>1.223775</td>\n",
       "      <td>0.039221</td>\n",
       "      <td>1.007958</td>\n",
       "      <td>2.564949</td>\n",
       "      <td>2.590017</td>\n",
       "      <td>2.708050</td>\n",
       "      <td>1.098612</td>\n",
       "      <td>1.153732</td>\n",
       "      <td>1.098612</td>\n",
       "      <td>0.405465</td>\n",
       "      <td>0.425268</td>\n",
       "      <td>4.821007</td>\n",
       "      <td>4.398884</td>\n",
       "      <td>6.678040</td>\n",
       "      <td>7.228229</td>\n",
       "    </tr>\n",
       "    <tr>\n",
       "      <th>160</th>\n",
       "      <td>2.613740</td>\n",
       "      <td>4.000034</td>\n",
       "      <td>1.953028</td>\n",
       "      <td>1.515127</td>\n",
       "      <td>1.235471</td>\n",
       "      <td>0.000000</td>\n",
       "      <td>0.896088</td>\n",
       "      <td>2.288486</td>\n",
       "      <td>2.142416</td>\n",
       "      <td>2.399712</td>\n",
       "      <td>1.724551</td>\n",
       "      <td>1.088562</td>\n",
       "      <td>1.470176</td>\n",
       "      <td>0.824175</td>\n",
       "      <td>-0.400478</td>\n",
       "      <td>4.940642</td>\n",
       "      <td>4.260283</td>\n",
       "      <td>7.311085</td>\n",
       "      <td>7.396262</td>\n",
       "    </tr>\n",
       "    <tr>\n",
       "      <th>80</th>\n",
       "      <td>2.079442</td>\n",
       "      <td>3.784190</td>\n",
       "      <td>1.945910</td>\n",
       "      <td>1.252763</td>\n",
       "      <td>0.978326</td>\n",
       "      <td>-0.356675</td>\n",
       "      <td>0.641854</td>\n",
       "      <td>2.113843</td>\n",
       "      <td>2.018895</td>\n",
       "      <td>2.327278</td>\n",
       "      <td>0.837248</td>\n",
       "      <td>0.672944</td>\n",
       "      <td>0.841567</td>\n",
       "      <td>0.993252</td>\n",
       "      <td>0.371564</td>\n",
       "      <td>5.395399</td>\n",
       "      <td>4.395436</td>\n",
       "      <td>6.250998</td>\n",
       "      <td>6.670475</td>\n",
       "    </tr>\n",
       "    <tr>\n",
       "      <th>179</th>\n",
       "      <td>2.576422</td>\n",
       "      <td>3.875774</td>\n",
       "      <td>1.985131</td>\n",
       "      <td>1.291984</td>\n",
       "      <td>1.205971</td>\n",
       "      <td>-0.127833</td>\n",
       "      <td>0.824175</td>\n",
       "      <td>2.389680</td>\n",
       "      <td>2.492379</td>\n",
       "      <td>2.622492</td>\n",
       "      <td>1.749200</td>\n",
       "      <td>1.308333</td>\n",
       "      <td>1.795087</td>\n",
       "      <td>0.598837</td>\n",
       "      <td>-0.510826</td>\n",
       "      <td>4.973833</td>\n",
       "      <td>4.186164</td>\n",
       "      <td>7.174173</td>\n",
       "      <td>7.317943</td>\n",
       "    </tr>\n",
       "  </tbody>\n",
       "</table>\n",
       "</div>"
      ],
      "text/plain": [
       "     Rst_MealInexpensiveRestaurant  \\\n",
       "192                       2.613740   \n",
       "20                        2.708050   \n",
       "160                       2.613740   \n",
       "80                        2.079442   \n",
       "179                       2.576422   \n",
       "\n",
       "     Rst_Mealfor2People_Mid-rangeRestaurantThree-course  \\\n",
       "192                                           4.000034    \n",
       "20                                            3.960813    \n",
       "160                                           4.000034    \n",
       "80                                            3.784190    \n",
       "179                                           3.875774    \n",
       "\n",
       "     Rst_McMealatMcDonalds  Rst_DomesticBeerhalfliter  Rst_Cappuccinoregular  \\\n",
       "192               1.985131                   1.654411               1.353255   \n",
       "20                2.169054                   1.931521               1.223775   \n",
       "160               1.953028                   1.515127               1.235471   \n",
       "80                1.945910                   1.252763               0.978326   \n",
       "179               1.985131                   1.291984               1.205971   \n",
       "\n",
       "     Mkt_Milkregular1liter  Mkt_Eggsregular12  Mkt_LocalCheese1kg  \\\n",
       "192              -0.356675           0.262364            2.280339   \n",
       "20                0.039221           1.007958            2.564949   \n",
       "160               0.000000           0.896088            2.288486   \n",
       "80               -0.356675           0.641854            2.113843   \n",
       "179              -0.127833           0.824175            2.389680   \n",
       "\n",
       "     Mkt_ChickenFillets1kg  Mkt_BeefRound1kgBackLegRedMeat  Mkt_Apples1kg  \\\n",
       "192               1.859418                        2.305581       1.504077   \n",
       "20                2.590017                        2.708050       1.098612   \n",
       "160               2.142416                        2.399712       1.724551   \n",
       "80                2.018895                        2.327278       0.837248   \n",
       "179               2.492379                        2.622492       1.749200   \n",
       "\n",
       "     Mkt_Oranges1kg  Mkt_Tomato1kg  Trsp_One-wayTicket  Trsp_Gasoline1liter  \\\n",
       "192        1.611436       1.108563            0.463734            -0.579818   \n",
       "20         1.153732       1.098612            0.405465             0.425268   \n",
       "160        1.088562       1.470176            0.824175            -0.400478   \n",
       "80         0.672944       0.841567            0.993252             0.371564   \n",
       "179        1.308333       1.795087            0.598837            -0.510826   \n",
       "\n",
       "     Uty_BasicElectricityHeatingCoolingWaterGarbage  \\\n",
       "192                                        4.891326   \n",
       "20                                         4.821007   \n",
       "160                                        4.940642   \n",
       "80                                         5.395399   \n",
       "179                                        4.973833   \n",
       "\n",
       "     Cloth_1PairofNikeRunningShoesMid-Range  \\\n",
       "192                                4.186924   \n",
       "20                                 4.398884   \n",
       "160                                4.260283   \n",
       "80                                 4.395436   \n",
       "179                                4.186164   \n",
       "\n",
       "     Rent_Apartment1bedroominCityCentre  \\\n",
       "192                            6.948148   \n",
       "20                             6.678040   \n",
       "160                            7.311085   \n",
       "80                             6.250998   \n",
       "179                            7.174173   \n",
       "\n",
       "     Rent_Apartment3bedroomsOutsideofCentre  \n",
       "192                                7.177561  \n",
       "20                                 7.228229  \n",
       "160                                7.396262  \n",
       "80                                 6.670475  \n",
       "179                                7.317943  "
      ]
     },
     "execution_count": 13,
     "metadata": {},
     "output_type": "execute_result"
    }
   ],
   "source": [
    "selected_feature_cols = ['Rst_MealInexpensiveRestaurant',\n",
    "       'Rst_Mealfor2People_Mid-rangeRestaurantThree-course',\n",
    "       'Rst_McMealatMcDonalds', 'Rst_DomesticBeerhalfliter',\n",
    "       'Rst_Cappuccinoregular', 'Mkt_Milkregular1liter', 'Mkt_Eggsregular12',\n",
    "       'Mkt_LocalCheese1kg', 'Mkt_ChickenFillets1kg',\n",
    "       'Mkt_BeefRound1kgBackLegRedMeat', 'Mkt_Apples1kg', 'Mkt_Oranges1kg',\n",
    "       'Mkt_Tomato1kg', 'Trsp_One-wayTicket', 'Trsp_Gasoline1liter',\n",
    "       'Uty_BasicElectricityHeatingCoolingWaterGarbage',\n",
    "       'Cloth_1PairofNikeRunningShoesMid-Range',\n",
    "       'Rent_Apartment1bedroominCityCentre',\n",
    "       'Rent_Apartment3bedroomsOutsideofCentre']\n",
    "X_RFE_train = X_train[selected_feature_cols]\n",
    "X_RFE_test = X_test[selected_feature_cols]#.values\n",
    "y_RFE_train = y_train['Cost_index']\n",
    "y_RFE_test = y_test['Cost_index'] \n",
    "print ('Train set:', X_RFE_train.shape,  y_RFE_train.shape)\n",
    "print ('Test set:', X_RFE_test.shape,  y_RFE_test.shape)\n",
    "X_RFE_train[0:5]"
   ]
  },
  {
   "cell_type": "code",
   "execution_count": 14,
   "metadata": {},
   "outputs": [
    {
     "data": {
      "text/plain": [
       "192    4.222738\n",
       "20     4.331917\n",
       "160    4.369195\n",
       "80     4.111529\n",
       "179    4.317488\n",
       "Name: Cost_index, dtype: float64"
      ]
     },
     "execution_count": 14,
     "metadata": {},
     "output_type": "execute_result"
    }
   ],
   "source": [
    "y_RFE_train[0:5]"
   ]
  },
  {
   "cell_type": "code",
   "execution_count": 15,
   "metadata": {
    "scrolled": true
   },
   "outputs": [
    {
     "data": {
      "text/html": [
       "<div>\n",
       "<style scoped>\n",
       "    .dataframe tbody tr th:only-of-type {\n",
       "        vertical-align: middle;\n",
       "    }\n",
       "\n",
       "    .dataframe tbody tr th {\n",
       "        vertical-align: top;\n",
       "    }\n",
       "\n",
       "    .dataframe thead th {\n",
       "        text-align: right;\n",
       "    }\n",
       "</style>\n",
       "<table border=\"1\" class=\"dataframe\">\n",
       "  <thead>\n",
       "    <tr style=\"text-align: right;\">\n",
       "      <th></th>\n",
       "      <th>R Square Score</th>\n",
       "    </tr>\n",
       "  </thead>\n",
       "  <tbody>\n",
       "    <tr>\n",
       "      <th>Bayesian Ridge</th>\n",
       "      <td>0.878219</td>\n",
       "    </tr>\n",
       "    <tr>\n",
       "      <th>Ridge</th>\n",
       "      <td>0.877404</td>\n",
       "    </tr>\n",
       "    <tr>\n",
       "      <th>Lasso</th>\n",
       "      <td>0.873687</td>\n",
       "    </tr>\n",
       "    <tr>\n",
       "      <th>Linear</th>\n",
       "      <td>0.871888</td>\n",
       "    </tr>\n",
       "    <tr>\n",
       "      <th>Bagging</th>\n",
       "      <td>0.823484</td>\n",
       "    </tr>\n",
       "    <tr>\n",
       "      <th>SVM Linear</th>\n",
       "      <td>0.810774</td>\n",
       "    </tr>\n",
       "    <tr>\n",
       "      <th>AdaBoost</th>\n",
       "      <td>0.808953</td>\n",
       "    </tr>\n",
       "    <tr>\n",
       "      <th>RandomForest</th>\n",
       "      <td>0.801446</td>\n",
       "    </tr>\n",
       "    <tr>\n",
       "      <th>SVM RBF</th>\n",
       "      <td>0.798462</td>\n",
       "    </tr>\n",
       "    <tr>\n",
       "      <th>Hubber</th>\n",
       "      <td>0.756099</td>\n",
       "    </tr>\n",
       "  </tbody>\n",
       "</table>\n",
       "</div>"
      ],
      "text/plain": [
       "                R Square Score\n",
       "Bayesian Ridge        0.878219\n",
       "Ridge                 0.877404\n",
       "Lasso                 0.873687\n",
       "Linear                0.871888\n",
       "Bagging               0.823484\n",
       "SVM Linear            0.810774\n",
       "AdaBoost              0.808953\n",
       "RandomForest          0.801446\n",
       "SVM RBF               0.798462\n",
       "Hubber                0.756099"
      ]
     },
     "execution_count": 15,
     "metadata": {},
     "output_type": "execute_result"
    },
    {
     "data": {
      "image/png": "[encoded data removed]",
      "text/plain": [
       "<Figure size 432x288 with 1 Axes>"
      ]
     },
     "metadata": {
      "needs_background": "light"
     },
     "output_type": "display_data"
    }
   ],
   "source": [
    "lets_try(X_RFE_train,y_RFE_train)"
   ]
  },
  {
   "cell_type": "markdown",
   "metadata": {},
   "source": [
    "| R2: Non-RFE(54 features)   |R2: RFE(19 features)     |\n",
    "| ---------------------- | ------------------- |\n",
    "| 0.840123              | 0.878219           |\n"
   ]
  },
  {
   "cell_type": "markdown",
   "metadata": {},
   "source": [
    "<span style=\"color: red;\"> **Conclusion:** If we reduce the features from 54 to 19 with Bayesian Ridge Model, the performance of the prediction has slightly improved due to removing the noise from some features."
   ]
  },
  {
   "cell_type": "markdown",
   "metadata": {},
   "source": [
    "<a id='cell9'></a>\n",
    "#### 2. 3 Generate the prediction from Test Set -- with RFE & Bayesian Ridge Model"
   ]
  },
  {
   "cell_type": "code",
   "execution_count": 17,
   "metadata": {},
   "outputs": [
    {
     "data": {
      "text/plain": [
       "BayesianRidge(alpha_1=1000, alpha_2=10, compute_score=False, copy_X=True,\n",
       "              fit_intercept=True, lambda_1=1e-06, lambda_2=1e-06, n_iter=300,\n",
       "              normalize=False, tol=1e-10, verbose=False)"
      ]
     },
     "execution_count": 17,
     "metadata": {},
     "output_type": "execute_result"
    }
   ],
   "source": [
    "cv = KFold(n_splits=10,shuffle=True,random_state=45)\n",
    "\n",
    "parameters = {'alpha_1': [1000,100,10],\n",
    "              'alpha_2' : [1000,100,10],\n",
    "              'tol' : [1e-10]}\n",
    "\n",
    "clf = linear_model.BayesianRidge()\n",
    "r2 = make_scorer(r2_score)\n",
    "grid_obj = GridSearchCV(clf, parameters, cv=cv,scoring=r2)\n",
    "grid_fit = grid_obj.fit(X_RFE_train,y_RFE_train)\n",
    "best_clf = grid_fit.best_estimator_ \n",
    "\n",
    "best_clf.fit(X_RFE_train,y_RFE_train)"
   ]
  },
  {
   "cell_type": "markdown",
   "metadata": {},
   "source": [
    "<a id='cell10'></a>\n",
    "#### 2. 4 Feature Importance with RFE & Bayesian Ridge Model"
   ]
  },
  {
   "cell_type": "code",
   "execution_count": 40,
   "metadata": {},
   "outputs": [
    {
     "name": "stdout",
     "output_type": "stream",
     "text": [
      "Feature: 0, Score: 0.09395\n",
      "Feature: 1, Score: 0.04349\n",
      "Feature: 2, Score: 0.00053\n",
      "Feature: 3, Score: 0.07252\n",
      "Feature: 4, Score: -0.02420\n",
      "Feature: 5, Score: -0.02251\n",
      "Feature: 6, Score: 0.05450\n",
      "Feature: 7, Score: 0.05024\n",
      "Feature: 8, Score: 0.04493\n",
      "Feature: 9, Score: 0.05115\n",
      "Feature: 10, Score: 0.06393\n",
      "Feature: 11, Score: 0.03056\n",
      "Feature: 12, Score: 0.05466\n",
      "Feature: 13, Score: 0.04265\n",
      "Feature: 14, Score: -0.02824\n",
      "Feature: 15, Score: 0.02969\n",
      "Feature: 16, Score: -0.03479\n",
      "Feature: 17, Score: -0.01340\n",
      "Feature: 18, Score: 0.05620\n"
     ]
    },
    {
     "data": {
      "image/png": "[encoded data removed]",
      "text/plain": [
       "<Figure size 432x288 with 1 Axes>"
      ]
     },
     "metadata": {
      "needs_background": "light"
     },
     "output_type": "display_data"
    }
   ],
   "source": [
    "from matplotlib import pyplot\n",
    "best_clf.fit(X_RFE_train,y_RFE_train)\n",
    "#model.fit(X, y)\n",
    "# get importance\n",
    "importance = best_clf.coef_\n",
    "# summarize feature importance\n",
    "\n",
    "for i,v in enumerate(importance):\n",
    "    print('Feature: %0d, Score: %.5f' % (i,v))\n",
    "# plot feature importance\n",
    "\n",
    "pyplot.bar([x for x in range(len(importance))], importance)\n",
    "pyplot.show()"
   ]
  },
  {
   "cell_type": "markdown",
   "metadata": {},
   "source": [
    "<span style=\"color: red;\">Conclusion: The 1st component from RFE contributes the most positive impact on the prediction, and 17th component from RFE contributes the most negative impact on the prediction.</span>"
   ]
  },
  {
   "cell_type": "markdown",
   "metadata": {},
   "source": [
    "#### The slope and intercept of the data are contained in the model's fit parameters. The value of 𝑏₀, also called the intercept, shows the point where the estimated regression line crosses the 𝑦 axis. It is the value of the estimated response 𝑓(𝑥) for 𝑥 = 0. The value of 𝑏₁ determines the slope of the estimated regression line."
   ]
  },
  {
   "cell_type": "markdown",
   "metadata": {},
   "source": [
    "##### In regression with multiple independent variables, the coefficient tells you how much the dependent variable is expected to increase when that independent variable increases by one, holding all the other independent variables constant. Remember to keep in mind the units which your variables are measured in."
   ]
  },
  {
   "cell_type": "markdown",
   "metadata": {},
   "source": [
    "<a id='cell11'></a>\n",
    "#### 2. 5 The Model Slope & intercept & Coefficient"
   ]
  },
  {
   "cell_type": "code",
   "execution_count": 19,
   "metadata": {},
   "outputs": [
    {
     "name": "stdout",
     "output_type": "stream",
     "text": [
      "model intercept: 2.8745809076529674\n",
      "model slope:     0.09395069574431836\n",
      "[ 0.0939507   0.04348782  0.00052603  0.07251595 -0.02420436 -0.02250672\n",
      "  0.05450454  0.05023798  0.04493367  0.051155    0.06392574  0.03056158\n",
      "  0.05466008  0.04265172 -0.02824066  0.02968589 -0.03478688 -0.01340486\n",
      "  0.05619769]\n"
     ]
    },
    {
     "data": {
      "text/plain": [
       "[('Rst_MealInexpensiveRestaurant', 0.09395069574431836),\n",
       " ('Rst_Mealfor2People_Mid-rangeRestaurantThree-course', 0.04348781916588246),\n",
       " ('Rst_McMealatMcDonalds', 0.0005260269756953151),\n",
       " ('Rst_DomesticBeerhalfliter', 0.07251595036428171),\n",
       " ('Rst_Cappuccinoregular', -0.024204358171406815),\n",
       " ('Mkt_Milkregular1liter', -0.022506720431722277),\n",
       " ('Mkt_Eggsregular12', 0.054504540731278),\n",
       " ('Mkt_LocalCheese1kg', 0.050237982713493695),\n",
       " ('Mkt_ChickenFillets1kg', 0.044933671066975545),\n",
       " ('Mkt_BeefRound1kgBackLegRedMeat', 0.05115499644457219),\n",
       " ('Mkt_Apples1kg', 0.06392573613348868),\n",
       " ('Mkt_Oranges1kg', 0.030561582687508748),\n",
       " ('Mkt_Tomato1kg', 0.05466007594987188),\n",
       " ('Trsp_One-wayTicket', 0.042651717637412774),\n",
       " ('Trsp_Gasoline1liter', -0.028240661170617562),\n",
       " ('Uty_BasicElectricityHeatingCoolingWaterGarbage', 0.029685888520712272),\n",
       " ('Cloth_1PairofNikeRunningShoesMid-Range', -0.03478688097855144),\n",
       " ('Rent_Apartment1bedroominCityCentre', -0.013404858628604188),\n",
       " ('Rent_Apartment3bedroomsOutsideofCentre', 0.056197688555068126)]"
      ]
     },
     "execution_count": 19,
     "metadata": {},
     "output_type": "execute_result"
    }
   ],
   "source": [
    "print(\"model intercept:\", best_clf.intercept_)\n",
    "print(\"model slope:    \", best_clf.coef_[0])\n",
    "print(best_clf.coef_)\n",
    "zip(X_RFE_train, best_clf.coef_)\n",
    "# pair the feature names with the coefficients\n",
    "list(zip(selected_feature_cols, best_clf.coef_))"
   ]
  },
  {
   "cell_type": "code",
   "execution_count": 20,
   "metadata": {},
   "outputs": [
    {
     "data": {
      "text/plain": [
       "[('Rst_MealInexpensiveRestaurant', 0.09395069574431836),\n",
       " ('Rst_DomesticBeerhalfliter', 0.07251595036428171),\n",
       " ('Mkt_Apples1kg', 0.06392573613348868),\n",
       " ('Rent_Apartment3bedroomsOutsideofCentre', 0.056197688555068126),\n",
       " ('Mkt_Tomato1kg', 0.05466007594987188),\n",
       " ('Mkt_Eggsregular12', 0.054504540731278),\n",
       " ('Mkt_BeefRound1kgBackLegRedMeat', 0.05115499644457219),\n",
       " ('Mkt_LocalCheese1kg', 0.050237982713493695),\n",
       " ('Mkt_ChickenFillets1kg', 0.044933671066975545),\n",
       " ('Rst_Mealfor2People_Mid-rangeRestaurantThree-course', 0.04348781916588246),\n",
       " ('Trsp_One-wayTicket', 0.042651717637412774),\n",
       " ('Mkt_Oranges1kg', 0.030561582687508748),\n",
       " ('Uty_BasicElectricityHeatingCoolingWaterGarbage', 0.029685888520712272),\n",
       " ('Rst_McMealatMcDonalds', 0.0005260269756953151),\n",
       " ('Rent_Apartment1bedroominCityCentre', -0.013404858628604188),\n",
       " ('Mkt_Milkregular1liter', -0.022506720431722277),\n",
       " ('Rst_Cappuccinoregular', -0.024204358171406815),\n",
       " ('Trsp_Gasoline1liter', -0.028240661170617562),\n",
       " ('Cloth_1PairofNikeRunningShoesMid-Range', -0.03478688097855144)]"
      ]
     },
     "execution_count": 20,
     "metadata": {},
     "output_type": "execute_result"
    }
   ],
   "source": [
    "zipped = list(zip(selected_feature_cols, best_clf.coef_))\n",
    "sorted(zipped, key = lambda t: t[1], reverse=True)"
   ]
  },
  {
   "cell_type": "markdown",
   "metadata": {},
   "source": [
    "The coefficient indicates that for every additional EURO in Rst_MealInexpensiveRestaurant you can expect cost index to increase by an average of 0.09395069574431836."
   ]
  },
  {
   "cell_type": "code",
   "execution_count": 21,
   "metadata": {},
   "outputs": [],
   "source": [
    "y_prediction_RFE = best_clf.predict(X_RFE_test)\n",
    "y_prediction_RFE = np.exp(y_prediction_RFE)\n",
    "y_RFE_test = np.exp(y_RFE_test)\n",
    "sub = pd.DataFrame({\n",
    "        \"Cost_Of_living\": y_prediction_RFE\n",
    "    })\n",
    "sub.to_csv(\"cost_of_living_test_RFE_BayesianRidge_prediciton.csv\", index=False)"
   ]
  },
  {
   "cell_type": "code",
   "execution_count": 22,
   "metadata": {},
   "outputs": [
    {
     "data": {
      "text/plain": [
       "array([55.99809343, 79.86754375, 69.62674313, 69.92765782, 85.17431642])"
      ]
     },
     "execution_count": 22,
     "metadata": {},
     "output_type": "execute_result"
    }
   ],
   "source": [
    "y_prediction_RFE[0:5]"
   ]
  },
  {
   "cell_type": "markdown",
   "metadata": {},
   "source": [
    "<a id='cell12'></a>\n",
    "#### 2. 6  Plot Test Value vs. Predict Value"
   ]
  },
  {
   "cell_type": "code",
   "execution_count": 23,
   "metadata": {},
   "outputs": [
    {
     "data": {
      "text/plain": [
       "Text(0, 0.5, 'Predict Value')"
      ]
     },
     "execution_count": 23,
     "metadata": {},
     "output_type": "execute_result"
    },
    {
     "data": {
      "image/png": "[encoded data removed]",
      "text/plain": [
       "<Figure size 432x288 with 1 Axes>"
      ]
     },
     "metadata": {
      "needs_background": "light"
     },
     "output_type": "display_data"
    }
   ],
   "source": [
    "plt.scatter(y_RFE_test, y_prediction_RFE)\n",
    "plt.title('Scatter plot Test Value vs. Predict Value')\n",
    "plt.xlabel('Test Value')\n",
    "plt.ylabel('Predict Value')"
   ]
  },
  {
   "cell_type": "markdown",
   "metadata": {},
   "source": [
    "###### Regression Performance\n",
    "The variation of actual responses 𝑦ᵢ, 𝑖 = 1, …, 𝑛, occurs partly due to the dependence on the predictors 𝐱ᵢ. However, there is also an additional inherent variance of the output.\n",
    "\n",
    "The coefficient of determination, denoted as 𝑅², tells you which amount of variation in 𝑦 can be explained by the dependence on 𝐱 using the particular regression model. Larger 𝑅² indicates a better fit and means that the model can better explain the variation of the output with different inputs.\n",
    "\n",
    "The value 𝑅² = 1 corresponds to SSR = 0, that is to the perfect fit since the values of predicted and actual responses fit completely to each other."
   ]
  },
  {
   "cell_type": "code",
   "execution_count": 24,
   "metadata": {},
   "outputs": [
    {
     "name": "stdout",
     "output_type": "stream",
     "text": [
      "\n",
      "Test Set Regression Metrics:\n",
      "-----\n",
      "regression R2 score:0.83755002739749\n",
      "regression MAE :2.5172368677132795\n",
      "regression MSE score:11.504269879646616\n",
      "regression RMSE score:3.391794492543234\n"
     ]
    }
   ],
   "source": [
    "from sklearn import metrics\n",
    "import seaborn as sn\n",
    "\n",
    "print(\"\\nTest Set Regression Metrics:\")\n",
    "print(\"-----\")\n",
    "print(\"regression R2 score:{}\".format(metrics.r2_score(y_RFE_test, y_prediction_RFE))) #R^2 (coefficient of determination) regression score function.\n",
    "print(\"regression MAE :{}\".format(metrics.mean_absolute_error(y_RFE_test, y_prediction_RFE))) #Mean absolute error regression loss\n",
    "print(\"regression MSE score:{}\".format(metrics.mean_squared_error(y_RFE_test, y_prediction_RFE))) #Mean squared error regression loss\n",
    "print(\"regression RMSE score:{}\".format(np.sqrt(metrics.mean_squared_error(y_RFE_test, y_prediction_RFE)))) #Root mean squared error"
   ]
  },
  {
   "cell_type": "markdown",
   "metadata": {},
   "source": [
    "| R2: RFE Training Set  |R2: RFE Test Set     |\n",
    "| ---------------------- | ------------------- |\n",
    "|0.878219            | 0.8375500          |"
   ]
  },
  {
   "cell_type": "markdown",
   "metadata": {},
   "source": [
    "<span style=\"color: red;\"> **Conclusion: R Square is a good measure to determine how well the model fits the dependent variables. The performance of model fits the dependent variable is slightly declined from 0.878219 to 0.8375500 after reducing the feature from 54 to 19. However it is still in the very acceptable margin.**"
   ]
  },
  {
   "cell_type": "markdown",
   "metadata": {},
   "source": [
    "<a id='cell13'></a>\n",
    "\n",
    "### 3. Feature Engineering -- PCA (Principal Component Analysis)"
   ]
  },
  {
   "cell_type": "markdown",
   "metadata": {},
   "source": [
    "<a id='cell14'></a>\n",
    "#### 3.1 Find Components from PCA"
   ]
  },
  {
   "cell_type": "markdown",
   "metadata": {},
   "source": [
    "##### The explained variance tells us how much information (variance) can be attributed to each of the principal components.\n",
    "#### The idea is to start with n_components = number of columns. Then select the number of components that ideally add up to 1 variance_ratio. However, you can select the number of components to any level which may provide the efficient information."
   ]
  },
  {
   "cell_type": "code",
   "execution_count": 25,
   "metadata": {},
   "outputs": [
    {
     "name": "stdout",
     "output_type": "stream",
     "text": [
      "[0.354  0.5662 0.624  0.6626 0.6959 0.7272 0.7499 0.7719 0.7913 0.8088\n",
      " 0.824  0.838  0.8518 0.8646 0.8768 0.8867 0.895  0.903  0.9109 0.9184\n",
      " 0.9255 0.9318 0.9377 0.9433 0.9482 0.9529 0.9574 0.9616 0.965  0.9683\n",
      " 0.9715 0.9744 0.9771 0.9794 0.9816 0.9836 0.9854 0.9871 0.9887 0.9902\n",
      " 0.9916 0.9928 0.9939 0.995  0.996  0.9968 0.9975 0.9981 0.9986 0.999\n",
      " 0.9993 0.9996 0.9998 0.9999]\n"
     ]
    },
    {
     "data": {
      "text/plain": [
       "[<matplotlib.lines.Line2D at 0x7fcc6ab51c10>]"
      ]
     },
     "execution_count": 25,
     "metadata": {},
     "output_type": "execute_result"
    },
    {
     "data": {
      "image/png": "[encoded data removed]",
      "text/plain": [
       "<Figure size 432x288 with 1 Axes>"
      ]
     },
     "metadata": {
      "needs_background": "light"
     },
     "output_type": "display_data"
    }
   ],
   "source": [
    "#Scaling the values\n",
    "X_train = scale(X_train)\n",
    "pca = PCA(n_components=54)\n",
    "pca.fit(X_train)\n",
    "\n",
    "#The amount of variance that each PC explains\n",
    "var= pca.explained_variance_ratio_\n",
    "#Cumulative Variance explains\n",
    "var1=np.cumsum(np.round(pca.explained_variance_ratio_, decimals=4))\n",
    "print(var1)\n",
    "plt.plot(var1)"
   ]
  },
  {
   "cell_type": "markdown",
   "metadata": {},
   "source": [
    "<span style=\"color: red;\">In our case, there is no Dimensionality Reduction from PCA if we  select the number of components that ideally add up to 1 variance_ratio. However, we still like to experiment how the number of components impact on the prediction.</span>"
   ]
  },
  {
   "cell_type": "markdown",
   "metadata": {},
   "source": [
    "<a id='cell15'></a>\n",
    "#### 3.2  Select the best model with newly selected components  from PCA"
   ]
  },
  {
   "cell_type": "code",
   "execution_count": 26,
   "metadata": {},
   "outputs": [
    {
     "name": "stdout",
     "output_type": "stream",
     "text": [
      "[[-2.45230473  4.23863971  0.0221076  ...  0.17017641  0.3933856\n",
      "   0.16290608]\n",
      " [-2.56605075 -3.76554545  1.33876525 ...  0.30091165  0.10139483\n",
      "  -0.14315602]\n",
      " [-5.37570949  2.67586342 -0.86126173 ... -0.15505734  0.06571372\n",
      "  -0.32258199]\n",
      " ...\n",
      " [-0.45840961  4.95171184  1.35466182 ... -0.40963314  0.05043329\n",
      "  -0.22596525]\n",
      " [-0.75179413 -3.50553034  0.77561164 ...  0.03424887  0.02209116\n",
      "   0.34346848]\n",
      " [-3.71002913  1.55273915 -0.93080928 ...  0.37144446  0.24163827\n",
      "   0.31031436]]\n"
     ]
    }
   ],
   "source": [
    "#Looking at above plot I'm taking 43 variables (get 99.39% information from original dataset)\n",
    "pca = PCA(n_components=43)\n",
    "pca.fit(X_train)\n",
    "X_PCA_train=pca.fit_transform(X_train)\n",
    "\n",
    "print(X_PCA_train)"
   ]
  },
  {
   "cell_type": "code",
   "execution_count": 27,
   "metadata": {},
   "outputs": [],
   "source": [
    "y_PCA_train = y_train"
   ]
  },
  {
   "cell_type": "code",
   "execution_count": 28,
   "metadata": {},
   "outputs": [
    {
     "data": {
      "text/html": [
       "<div>\n",
       "<style scoped>\n",
       "    .dataframe tbody tr th:only-of-type {\n",
       "        vertical-align: middle;\n",
       "    }\n",
       "\n",
       "    .dataframe tbody tr th {\n",
       "        vertical-align: top;\n",
       "    }\n",
       "\n",
       "    .dataframe thead th {\n",
       "        text-align: right;\n",
       "    }\n",
       "</style>\n",
       "<table border=\"1\" class=\"dataframe\">\n",
       "  <thead>\n",
       "    <tr style=\"text-align: right;\">\n",
       "      <th></th>\n",
       "      <th>R Square Score</th>\n",
       "    </tr>\n",
       "  </thead>\n",
       "  <tbody>\n",
       "    <tr>\n",
       "      <th>Bayesian Ridge</th>\n",
       "      <td>0.835423</td>\n",
       "    </tr>\n",
       "    <tr>\n",
       "      <th>Hubber</th>\n",
       "      <td>0.801208</td>\n",
       "    </tr>\n",
       "    <tr>\n",
       "      <th>Ridge</th>\n",
       "      <td>0.792972</td>\n",
       "    </tr>\n",
       "    <tr>\n",
       "      <th>Lasso</th>\n",
       "      <td>0.788083</td>\n",
       "    </tr>\n",
       "    <tr>\n",
       "      <th>Linear</th>\n",
       "      <td>0.780751</td>\n",
       "    </tr>\n",
       "    <tr>\n",
       "      <th>Bagging</th>\n",
       "      <td>0.776122</td>\n",
       "    </tr>\n",
       "    <tr>\n",
       "      <th>SVM Linear</th>\n",
       "      <td>0.764308</td>\n",
       "    </tr>\n",
       "    <tr>\n",
       "      <th>RandomForest</th>\n",
       "      <td>0.751747</td>\n",
       "    </tr>\n",
       "    <tr>\n",
       "      <th>AdaBoost</th>\n",
       "      <td>0.749331</td>\n",
       "    </tr>\n",
       "    <tr>\n",
       "      <th>SVM RBF</th>\n",
       "      <td>0.678129</td>\n",
       "    </tr>\n",
       "  </tbody>\n",
       "</table>\n",
       "</div>"
      ],
      "text/plain": [
       "                R Square Score\n",
       "Bayesian Ridge        0.835423\n",
       "Hubber                0.801208\n",
       "Ridge                 0.792972\n",
       "Lasso                 0.788083\n",
       "Linear                0.780751\n",
       "Bagging               0.776122\n",
       "SVM Linear            0.764308\n",
       "RandomForest          0.751747\n",
       "AdaBoost              0.749331\n",
       "SVM RBF               0.678129"
      ]
     },
     "execution_count": 28,
     "metadata": {},
     "output_type": "execute_result"
    },
    {
     "data": {
      "image/png": "[encoded data removed]",
      "text/plain": [
       "<Figure size 432x288 with 1 Axes>"
      ]
     },
     "metadata": {
      "needs_background": "light"
     },
     "output_type": "display_data"
    }
   ],
   "source": [
    "lets_try(X_PCA_train,y_PCA_train)"
   ]
  },
  {
   "cell_type": "markdown",
   "metadata": {},
   "source": [
    "| R2: Non-PCA(54 features)   |R2: PCA(43 features)     |\n",
    "| ---------------------- | ------------------- |\n",
    "| 0.840123              | 0.835423    |"
   ]
  },
  {
   "cell_type": "markdown",
   "metadata": {},
   "source": [
    "<span style=\"color: red;\"> **Conclusion:** If we reduce the features from 54 to 43 with Bayesian Ridge Model by using PCA, the performance of the prediction is not sacrificed."
   ]
  },
  {
   "cell_type": "markdown",
   "metadata": {},
   "source": [
    "<a id='cell16'></a>\n",
    "#### 3.3 Generate the prediction from Test Set ---Bayesian Ridge Model with PCA Feather Engineering"
   ]
  },
  {
   "cell_type": "code",
   "execution_count": 29,
   "metadata": {},
   "outputs": [
    {
     "data": {
      "text/plain": [
       "BayesianRidge(alpha_1=1000, alpha_2=10, compute_score=False, copy_X=True,\n",
       "              fit_intercept=True, lambda_1=1e-06, lambda_2=1e-06, n_iter=300,\n",
       "              normalize=False, tol=1e-10, verbose=False)"
      ]
     },
     "execution_count": 29,
     "metadata": {},
     "output_type": "execute_result"
    }
   ],
   "source": [
    "cv = KFold(n_splits=10,shuffle=True,random_state=45)\n",
    "\n",
    "parameters = {'alpha_1': [1000,100,10],\n",
    "              'alpha_2' : [1000,100,10],\n",
    "              'tol' : [1e-10]}\n",
    "\n",
    "clf = linear_model.BayesianRidge()\n",
    "r2 = make_scorer(r2_score)\n",
    "grid_obj = GridSearchCV(clf, parameters, cv=cv,scoring=r2)\n",
    "grid_fit = grid_obj.fit(X_PCA_train,y_PCA_train)\n",
    "best_clf = grid_fit.best_estimator_ \n",
    "\n",
    "best_clf.fit(X_PCA_train,y_PCA_train)"
   ]
  },
  {
   "cell_type": "code",
   "execution_count": 30,
   "metadata": {},
   "outputs": [
    {
     "data": {
      "text/plain": [
       "(44, 54)"
      ]
     },
     "execution_count": 30,
     "metadata": {},
     "output_type": "execute_result"
    }
   ],
   "source": [
    "X_test.shape"
   ]
  },
  {
   "cell_type": "code",
   "execution_count": 31,
   "metadata": {},
   "outputs": [
    {
     "name": "stdout",
     "output_type": "stream",
     "text": [
      "[[-3.97578700e+00  5.40686246e+00  3.92823917e+00 ... -1.87107960e-02\n",
      "   7.33327191e-02 -2.18688500e-02]\n",
      " [ 5.21703545e+00 -3.19042709e+00 -1.46322284e+00 ...  8.76489083e-02\n",
      "   3.84745215e-03 -3.64541645e-02]\n",
      " [-2.97441275e+00 -7.54048096e-01  3.00296503e+00 ... -2.17144626e-01\n",
      "   1.06256871e-01 -5.39555557e-02]\n",
      " ...\n",
      " [-7.17488543e-01 -2.98248392e+00  1.98206805e+00 ...  5.16103174e-02\n",
      "   1.88125921e-02  1.25273384e-02]\n",
      " [-1.56788995e+00 -6.94613284e+00  6.40568096e-01 ...  6.35331007e-02\n",
      "   3.50384275e-03 -5.00233614e-02]\n",
      " [ 5.13669411e+00 -2.87773663e+00 -1.07967525e+00 ... -2.22763816e-01\n",
      "  -1.77882470e-01  1.86075465e-02]]\n"
     ]
    }
   ],
   "source": [
    "X_test = scale(X_test)\n",
    "pca = PCA(n_components=43)\n",
    "pca.fit(X_test)\n",
    "X_PCA_test=pca.fit_transform(X_test)\n",
    "print(X_PCA_test)\n",
    "y_PCA_test = y_test\n",
    "\n",
    "y_prediction_PCA = best_clf.predict(X_PCA_test)\n",
    "y_prediction_PCA = np.exp(y_prediction_PCA)\n",
    "y_PCA_test = np.exp(y_PCA_test)\n",
    "sub = pd.DataFrame({\n",
    "        \"Cost_Of_living\": y_prediction_PCA\n",
    "    })\n",
    "sub.to_csv(\"cost_of_living_test_PCA_BayesianRidge_prediciton.csv\", index=False)"
   ]
  },
  {
   "cell_type": "code",
   "execution_count": 32,
   "metadata": {},
   "outputs": [
    {
     "data": {
      "text/plain": [
       "array([72.98611551, 59.42678891, 77.93524308, 79.37642564, 59.59710968])"
      ]
     },
     "execution_count": 32,
     "metadata": {},
     "output_type": "execute_result"
    }
   ],
   "source": [
    "y_prediction_PCA[0:5]"
   ]
  },
  {
   "cell_type": "markdown",
   "metadata": {},
   "source": [
    "##### All of these algorithms find a set of coefficients to use in the weighted sum in order to make a prediction. These coefficients can be used directly as a crude type of feature importance score."
   ]
  },
  {
   "cell_type": "markdown",
   "metadata": {},
   "source": [
    "<a id='cell17'></a>\n",
    "#### 3.4  Feature Importance with PCA and BayesianRidge"
   ]
  },
  {
   "cell_type": "code",
   "execution_count": 33,
   "metadata": {},
   "outputs": [
    {
     "name": "stdout",
     "output_type": "stream",
     "text": [
      "Feature: 0, Score: -0.03279\n",
      "Feature: 1, Score: -0.00573\n",
      "Feature: 2, Score: 0.00275\n",
      "Feature: 3, Score: -0.00438\n",
      "Feature: 4, Score: -0.01452\n",
      "Feature: 5, Score: -0.01093\n",
      "Feature: 6, Score: 0.00056\n",
      "Feature: 7, Score: -0.01098\n",
      "Feature: 8, Score: 0.00203\n",
      "Feature: 9, Score: -0.00269\n",
      "Feature: 10, Score: 0.01086\n",
      "Feature: 11, Score: -0.00419\n",
      "Feature: 12, Score: 0.00710\n",
      "Feature: 13, Score: 0.00661\n",
      "Feature: 14, Score: 0.00370\n",
      "Feature: 15, Score: 0.00165\n",
      "Feature: 16, Score: -0.00466\n",
      "Feature: 17, Score: -0.00975\n",
      "Feature: 18, Score: 0.00907\n",
      "Feature: 19, Score: -0.00431\n",
      "Feature: 20, Score: 0.00189\n",
      "Feature: 21, Score: 0.00504\n",
      "Feature: 22, Score: 0.00605\n",
      "Feature: 23, Score: 0.00376\n",
      "Feature: 24, Score: 0.00050\n",
      "Feature: 25, Score: -0.00636\n",
      "Feature: 26, Score: -0.00114\n",
      "Feature: 27, Score: -0.00095\n",
      "Feature: 28, Score: -0.00063\n",
      "Feature: 29, Score: 0.00162\n",
      "Feature: 30, Score: 0.00281\n",
      "Feature: 31, Score: -0.00115\n",
      "Feature: 32, Score: -0.00341\n",
      "Feature: 33, Score: -0.00089\n",
      "Feature: 34, Score: 0.00169\n",
      "Feature: 35, Score: -0.00079\n",
      "Feature: 36, Score: 0.00035\n",
      "Feature: 37, Score: 0.00491\n",
      "Feature: 38, Score: -0.00154\n",
      "Feature: 39, Score: 0.00295\n",
      "Feature: 40, Score: -0.00213\n",
      "Feature: 41, Score: -0.00064\n",
      "Feature: 42, Score: -0.00242\n"
     ]
    },
    {
     "data": {
      "image/png": "[encoded data removed]",
      "text/plain": [
       "<Figure size 432x288 with 1 Axes>"
      ]
     },
     "metadata": {
      "needs_background": "light"
     },
     "output_type": "display_data"
    }
   ],
   "source": [
    "from matplotlib import pyplot\n",
    "best_clf.fit(X_PCA_train,y_PCA_train)\n",
    "#model.fit(X, y)\n",
    "# get importance\n",
    "importance = best_clf.coef_\n",
    "# summarize feature importance\n",
    "\n",
    "for i,v in enumerate(importance):\n",
    "    print('Feature: %0d, Score: %.5f' % (i,v))\n",
    "# plot feature importance\n",
    "pyplot.bar([x for x in range(len(importance))], importance)\n",
    "pyplot.show()\n",
    "\n"
   ]
  },
  {
   "cell_type": "markdown",
   "metadata": {},
   "source": [
    "<span style=\"color: red;\"> **Conclusion:** The 1st component from PCA contributes the most negative impact on the prediction, and 11th component from PCA contributes the most positive impact on the prediction.</span>"
   ]
  },
  {
   "cell_type": "markdown",
   "metadata": {},
   "source": [
    "<a id='cell18'></a>\n",
    "#### 3. 5  Plot Test Value vs. Predict Value"
   ]
  },
  {
   "cell_type": "code",
   "execution_count": 34,
   "metadata": {},
   "outputs": [
    {
     "data": {
      "text/plain": [
       "Text(0, 0.5, 'Predict Value')"
      ]
     },
     "execution_count": 34,
     "metadata": {},
     "output_type": "execute_result"
    },
    {
     "data": {
      "image/png": "[encoded data removed]",
      "text/plain": [
       "<Figure size 432x288 with 1 Axes>"
      ]
     },
     "metadata": {
      "needs_background": "light"
     },
     "output_type": "display_data"
    }
   ],
   "source": [
    "plt.scatter(y_PCA_test, y_prediction_PCA)\n",
    "plt.title('Scatter plot Test Value vs. Predict Value')\n",
    "plt.xlabel('Test Value')\n",
    "plt.ylabel('Predict Value')"
   ]
  },
  {
   "cell_type": "code",
   "execution_count": 35,
   "metadata": {},
   "outputs": [
    {
     "name": "stdout",
     "output_type": "stream",
     "text": [
      "\n",
      "Test Set Regression Metrics:\n",
      "-----\n",
      "regression R2 score:0.83755002739749\n",
      "regression MAE :2.5172368677132795\n",
      "regression MSE score:11.504269879646616\n",
      "regression RMSE score:3.391794492543234\n"
     ]
    }
   ],
   "source": [
    "from sklearn import metrics\n",
    "import seaborn as sn\n",
    "\n",
    "print(\"\\nTest Set Regression Metrics:\")\n",
    "print(\"-----\")\n",
    "print(\"regression R2 score:{}\".format(metrics.r2_score(y_RFE_test, y_prediction_RFE))) #R^2 (coefficient of determination) regression score function.\n",
    "print(\"regression MAE :{}\".format(metrics.mean_absolute_error(y_RFE_test, y_prediction_RFE))) #Mean absolute error regression loss\n",
    "print(\"regression MSE score:{}\".format(metrics.mean_squared_error(y_RFE_test, y_prediction_RFE))) #Mean squared error regression loss\n",
    "print(\"regression RMSE score:{}\".format(np.sqrt(metrics.mean_squared_error(y_RFE_test, y_prediction_RFE)))) #Root mean squared error"
   ]
  },
  {
   "cell_type": "markdown",
   "metadata": {},
   "source": [
    "| R2: PCA Training Set  |R2: PCA Test Set     |\n",
    "| ---------------------- | ------------------- |\n",
    "|0.835423            |0.8375500          |"
   ]
  },
  {
   "cell_type": "markdown",
   "metadata": {},
   "source": [
    "| R2: RFE Training Set  |R2: RFE Test Set     | R2: PCA Training Set  |R2: PCA Test Set     |\n",
    "| ---------------------- | ------------------- | ---------------------- | ------------------- |\n",
    "|0.878219             | 0.8375500          |0.835423            |0.8375500          |"
   ]
  },
  {
   "cell_type": "markdown",
   "metadata": {},
   "source": [
    "<span style=\"color: red;\"> **Conclusion:** Even PCA BayesianRidge Test Set R2 is clost to RFE BayesianRidge Model  Test Set R2. From the plot, RFE BayesianRidge Model demstrates the consistent prediction pattern, which is a more stable prediction then PCA BayesianRidge Model.In this case, we don’t see any lift in model performance in using the PCA transform.</span>"
   ]
  },
  {
   "cell_type": "markdown",
   "metadata": {},
   "source": [
    "<a id='cell19'></a>\n",
    "### 4. Summary\n",
    "\n",
    "In this project, we performed the **baseline model selection** from **Bayesian Ridge, Ridge, Lasso, Linear, SVM Linear, AdaBoost, RandomForest, SVM RBF, Bagging, and Hubber** based on **R Square Score**. The best baseline model is **Bayesian Ridge**. \n",
    "\n",
    "After that we applied **RFE** and **PCA** techniques to identify the best features for the training and generate the optimized prediction. We compared prediction result based on the Regression Metrics (R2, MAE, MSE, and RMSE) as well as the plot of Test Value vs. Predict Value. \n",
    "\n",
    "Although PCA BayesianRidge Test Set R2 is clost to RFE BayesianRidge Model Test Set R2, RFE BayesianRidge Model demstrates the consistent prediction pattern also the feature is reduced from 54 to 19 while comparing PCS BayesianRidge Model with 43 features. \n",
    "\n",
    "In this project, we believe **BayesianRidge(alpha_1=1000, alpha_2=10, compute_score=False, copy_X=True,fit_intercept=True, lambda_1=1e-06, lambda_2=1e-06, n_iter=300,normalize=False, tol=1e-10, verbose=False)** with **R2 = 0.83755** will reach the highly consistent and accurate prediction."
   ]
  },
  {
   "cell_type": "markdown",
   "metadata": {},
   "source": [
    "<a id='authors'></a>\n",
    "#### Authors\n",
    "Selina Nie"
   ]
  },
  {
   "cell_type": "code",
   "execution_count": null,
   "metadata": {},
   "outputs": [],
   "source": []
  }
 ],
 "metadata": {
  "kernelspec": {
   "display_name": "Python 3",
   "language": "python",
   "name": "python3"
  },
  "language_info": {
   "codemirror_mode": {
    "name": "ipython",
    "version": 3
   },
   "file_extension": ".py",
   "mimetype": "text/x-python",
   "name": "python",
   "nbconvert_exporter": "python",
   "pygments_lexer": "ipython3",
   "version": "3.7.4"
  }
 },
 "nbformat": 4,
 "nbformat_minor": 4
}
